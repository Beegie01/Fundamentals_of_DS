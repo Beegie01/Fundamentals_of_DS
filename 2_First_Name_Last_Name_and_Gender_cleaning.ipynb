{
 "cells": [
  {
   "cell_type": "code",
   "execution_count": 1,
   "id": "478b50a9",
   "metadata": {},
   "outputs": [],
   "source": [
    "import os\n",
    "import seaborn as sns\n",
    "import copy"
   ]
  },
  {
   "cell_type": "code",
   "execution_count": 2,
   "id": "89ead922",
   "metadata": {},
   "outputs": [],
   "source": [
    "# Add current working directory to Python's sys path if not included\n",
    "imp_mods = os.sys.path\n",
    "my_pkg = os.getcwd()\n",
    "\n",
    "if my_pkg not in imp_mods:\n",
    "    imp_mods.append(my_pkg)\n",
    "    print('Package imported.')"
   ]
  },
  {
   "cell_type": "code",
   "execution_count": 3,
   "id": "121507b7",
   "metadata": {},
   "outputs": [],
   "source": [
    "# import class CensusDataset from a customized module census_methods\n",
    "from census_methods import CensusDataset as cd"
   ]
  },
  {
   "cell_type": "code",
   "execution_count": 4,
   "id": "86e4d4a9",
   "metadata": {},
   "outputs": [],
   "source": [
    "# read-in data from csv file\n",
    "census_df = sns.categorical.pd.read_csv('house_num_and_street_cleaned.csv')"
   ]
  },
  {
   "cell_type": "code",
   "execution_count": 5,
   "id": "8361f0a4",
   "metadata": {},
   "outputs": [
    {
     "name": "stdout",
     "output_type": "stream",
     "text": [
      "<class 'pandas.core.frame.DataFrame'>\n",
      "RangeIndex: 7581 entries, 0 to 7580\n",
      "Data columns (total 12 columns):\n",
      " #   Column                         Non-Null Count  Dtype \n",
      "---  ------                         --------------  ----- \n",
      " 0   House Number                   7581 non-null   int64 \n",
      " 1   Street                         7581 non-null   object\n",
      " 2   First Name                     7579 non-null   object\n",
      " 3   Surname                        7581 non-null   object\n",
      " 4   Age                            7581 non-null   object\n",
      " 5   Relationship to Head of House  7581 non-null   object\n",
      " 6   Marital Status                 5904 non-null   object\n",
      " 7   Gender                         7581 non-null   object\n",
      " 8   Occupation                     7581 non-null   object\n",
      " 9   Infirmity                      7581 non-null   object\n",
      " 10  Religion                       5864 non-null   object\n",
      " 11  Address                        7581 non-null   object\n",
      "dtypes: int64(1), object(11)\n",
      "memory usage: 710.8+ KB\n"
     ]
    }
   ],
   "source": [
    "census_df.info()"
   ]
  },
  {
   "cell_type": "markdown",
   "id": "0858ea28",
   "metadata": {},
   "source": [
    "### Gender"
   ]
  },
  {
   "cell_type": "code",
   "execution_count": 6,
   "id": "5da9d48b",
   "metadata": {},
   "outputs": [],
   "source": [
    "gend = copy.deepcopy(census_df['Gender'])"
   ]
  },
  {
   "cell_type": "code",
   "execution_count": 7,
   "id": "81cd04e5",
   "metadata": {},
   "outputs": [
    {
     "name": "stdout",
     "output_type": "stream",
     "text": [
      "['Female' 'Male' 'F' 'M' 'Fe-male' 'MALE' ' ' 'FEMALE']\n"
     ]
    }
   ],
   "source": [
    "print(gend.unique())"
   ]
  },
  {
   "cell_type": "markdown",
   "id": "44a37cf0",
   "metadata": {},
   "source": [
    "#### Fix inconsistent gender values"
   ]
  },
  {
   "cell_type": "code",
   "execution_count": 8,
   "id": "04128cf2",
   "metadata": {},
   "outputs": [],
   "source": [
    "converter = {'Female': 'F', 'Fe-male': 'F', 'FEMALE': 'F', 'MALE': 'M', 'Male': 'M'}\n",
    "gend = cd.transform_val(gend, converter)"
   ]
  },
  {
   "cell_type": "code",
   "execution_count": 9,
   "id": "39c4a807",
   "metadata": {},
   "outputs": [
    {
     "name": "stdout",
     "output_type": "stream",
     "text": [
      "['F' 'M' ' ']\n"
     ]
    }
   ],
   "source": [
    "print(gend.unique())"
   ]
  },
  {
   "cell_type": "code",
   "execution_count": 10,
   "id": "df71a98c",
   "metadata": {},
   "outputs": [
    {
     "data": {
      "text/plain": [
       "0"
      ]
     },
     "execution_count": 10,
     "metadata": {},
     "output_type": "execute_result"
    }
   ],
   "source": [
    "# check for nan values\n",
    "cd.null_checker(gend)"
   ]
  },
  {
   "cell_type": "markdown",
   "id": "8a69e511",
   "metadata": {},
   "source": [
    "No blank/empty string in the Gender column"
   ]
  },
  {
   "cell_type": "code",
   "execution_count": 11,
   "id": "85c8b8c2",
   "metadata": {},
   "outputs": [
    {
     "data": {
      "text/plain": [
       "True"
      ]
     },
     "execution_count": 11,
     "metadata": {},
     "output_type": "execute_result"
    }
   ],
   "source": [
    "# check for blanks\n",
    "cd.check_for_empty_str(census_df)['Gender']"
   ]
  },
  {
   "cell_type": "markdown",
   "id": "c098dfcc",
   "metadata": {},
   "source": [
    "<br><br>Gender column contains blank(s)"
   ]
  },
  {
   "cell_type": "markdown",
   "id": "6d9241a9",
   "metadata": {},
   "source": [
    "#### Fix blank genders"
   ]
  },
  {
   "cell_type": "code",
   "execution_count": 12,
   "id": "ddf52e6d",
   "metadata": {},
   "outputs": [
    {
     "data": {
      "text/html": [
       "<div>\n",
       "<style scoped>\n",
       "    .dataframe tbody tr th:only-of-type {\n",
       "        vertical-align: middle;\n",
       "    }\n",
       "\n",
       "    .dataframe tbody tr th {\n",
       "        vertical-align: top;\n",
       "    }\n",
       "\n",
       "    .dataframe thead th {\n",
       "        text-align: right;\n",
       "    }\n",
       "</style>\n",
       "<table border=\"1\" class=\"dataframe\">\n",
       "  <thead>\n",
       "    <tr style=\"text-align: right;\">\n",
       "      <th></th>\n",
       "      <th>House Number</th>\n",
       "      <th>Street</th>\n",
       "      <th>First Name</th>\n",
       "      <th>Surname</th>\n",
       "      <th>Age</th>\n",
       "      <th>Relationship to Head of House</th>\n",
       "      <th>Marital Status</th>\n",
       "      <th>Gender</th>\n",
       "      <th>Occupation</th>\n",
       "      <th>Infirmity</th>\n",
       "      <th>Religion</th>\n",
       "      <th>Address</th>\n",
       "    </tr>\n",
       "  </thead>\n",
       "  <tbody>\n",
       "    <tr>\n",
       "      <th>503</th>\n",
       "      <td>32</td>\n",
       "      <td>Griffiths Inlet</td>\n",
       "      <td>Wendy</td>\n",
       "      <td>Mann</td>\n",
       "      <td>34</td>\n",
       "      <td>Wife</td>\n",
       "      <td>Married</td>\n",
       "      <td></td>\n",
       "      <td>Occupational psychologist</td>\n",
       "      <td>None</td>\n",
       "      <td>Christian</td>\n",
       "      <td>32, Griffiths Inlet</td>\n",
       "    </tr>\n",
       "    <tr>\n",
       "      <th>2418</th>\n",
       "      <td>25</td>\n",
       "      <td>Green Wall</td>\n",
       "      <td>Guy</td>\n",
       "      <td>Moore</td>\n",
       "      <td>31</td>\n",
       "      <td>Son</td>\n",
       "      <td>Single</td>\n",
       "      <td></td>\n",
       "      <td>Scientist, research (physical sciences)</td>\n",
       "      <td>None</td>\n",
       "      <td>None</td>\n",
       "      <td>25, Green Wall</td>\n",
       "    </tr>\n",
       "  </tbody>\n",
       "</table>\n",
       "</div>"
      ],
      "text/plain": [
       "      House Number           Street First Name Surname Age  \\\n",
       "503             32  Griffiths Inlet      Wendy    Mann  34   \n",
       "2418            25       Green Wall        Guy   Moore  31   \n",
       "\n",
       "     Relationship to Head of House Marital Status Gender  \\\n",
       "503                           Wife        Married          \n",
       "2418                           Son         Single          \n",
       "\n",
       "                                   Occupation Infirmity   Religion  \\\n",
       "503                 Occupational psychologist      None  Christian   \n",
       "2418  Scientist, research (physical sciences)      None       None   \n",
       "\n",
       "                  Address  \n",
       "503   32, Griffiths Inlet  \n",
       "2418       25, Green Wall  "
      ]
     },
     "execution_count": 12,
     "metadata": {},
     "output_type": "execute_result"
    }
   ],
   "source": [
    "# Take a look at those having blank genders\n",
    "blank_gends = census_df.loc[gend.loc[gend == ' '].index]\n",
    "blank_gends"
   ]
  },
  {
   "cell_type": "markdown",
   "id": "831c4d9b",
   "metadata": {},
   "source": [
    "Now we can easily tell their genders from their \"Relationship to Head of House\" column.<br>\n",
    "***Wendy Mann is a wife - likely a female.<br>\n",
    "Guy Moore is a son - likely a male.***"
   ]
  },
  {
   "cell_type": "code",
   "execution_count": 13,
   "id": "318556db",
   "metadata": {},
   "outputs": [],
   "source": [
    "# assign Wendy Mann to gender F (female)\n",
    "gend.loc[blank_gends.loc[(blank_gends['Surname'] == 'Mann') & (blank_gends['First Name'] == 'Wendy')].index] = 'F'"
   ]
  },
  {
   "cell_type": "code",
   "execution_count": 14,
   "id": "676ef15b",
   "metadata": {},
   "outputs": [],
   "source": [
    "# assign Guy Moore to gender M (male)\n",
    "gend.loc[blank_gends.loc[(blank_gends['Surname'] == 'Moore') & (blank_gends['First Name'] == 'Guy')].index] = 'M'"
   ]
  },
  {
   "cell_type": "code",
   "execution_count": 15,
   "id": "57c9df8c",
   "metadata": {},
   "outputs": [
    {
     "data": {
      "text/plain": [
       "503     F\n",
       "2418    M\n",
       "Name: Gender, dtype: object"
      ]
     },
     "execution_count": 15,
     "metadata": {},
     "output_type": "execute_result"
    }
   ],
   "source": [
    "gend.loc[blank_gends.index]"
   ]
  },
  {
   "cell_type": "code",
   "execution_count": 16,
   "id": "16b8179a",
   "metadata": {},
   "outputs": [
    {
     "name": "stdout",
     "output_type": "stream",
     "text": [
      "['F' 'M']\n"
     ]
    }
   ],
   "source": [
    "print(gend.unique())"
   ]
  },
  {
   "cell_type": "markdown",
   "id": "a2959c94",
   "metadata": {},
   "source": [
    "#### Replace the old \"Gender\" column in the original census_df dataframe with cleaned series, \"gend\"."
   ]
  },
  {
   "cell_type": "code",
   "execution_count": 17,
   "id": "15481264",
   "metadata": {},
   "outputs": [],
   "source": [
    "census_df['Gender'] = gend"
   ]
  },
  {
   "cell_type": "code",
   "execution_count": 18,
   "id": "726ddc7e",
   "metadata": {},
   "outputs": [
    {
     "name": "stdout",
     "output_type": "stream",
     "text": [
      "['F' 'M']\n"
     ]
    }
   ],
   "source": [
    "print(census_df['Gender'].unique())"
   ]
  },
  {
   "cell_type": "markdown",
   "id": "37f98f91",
   "metadata": {},
   "source": [
    "___"
   ]
  },
  {
   "cell_type": "markdown",
   "id": "dc03b087",
   "metadata": {},
   "source": [
    "### First Name"
   ]
  },
  {
   "cell_type": "code",
   "execution_count": 19,
   "id": "7ada3b05",
   "metadata": {},
   "outputs": [],
   "source": [
    "fnames = copy.deepcopy(census_df['First Name'])"
   ]
  },
  {
   "cell_type": "code",
   "execution_count": 20,
   "id": "0f573d38",
   "metadata": {},
   "outputs": [
    {
     "data": {
      "text/plain": [
       "False"
      ]
     },
     "execution_count": 20,
     "metadata": {},
     "output_type": "execute_result"
    }
   ],
   "source": [
    "# check for empty or blank strings\n",
    "cd.check_for_empty_str(census_df)['First Name']"
   ]
  },
  {
   "cell_type": "markdown",
   "id": "963a1854",
   "metadata": {},
   "source": [
    "<br><br>No blank/empty string in the First Name column"
   ]
  },
  {
   "cell_type": "code",
   "execution_count": 21,
   "id": "7ff394a3",
   "metadata": {},
   "outputs": [
    {
     "data": {
      "text/plain": [
       "2"
      ]
     },
     "execution_count": 21,
     "metadata": {},
     "output_type": "execute_result"
    }
   ],
   "source": [
    "# check for nan values\n",
    "cd.null_checker(fnames)"
   ]
  },
  {
   "cell_type": "markdown",
   "id": "1b4d60de",
   "metadata": {},
   "source": [
    "<br><br>There are to 2 nan values in the First Name column"
   ]
  },
  {
   "cell_type": "code",
   "execution_count": 22,
   "id": "1db8bdcc",
   "metadata": {},
   "outputs": [
    {
     "data": {
      "text/html": [
       "<div>\n",
       "<style scoped>\n",
       "    .dataframe tbody tr th:only-of-type {\n",
       "        vertical-align: middle;\n",
       "    }\n",
       "\n",
       "    .dataframe tbody tr th {\n",
       "        vertical-align: top;\n",
       "    }\n",
       "\n",
       "    .dataframe thead th {\n",
       "        text-align: right;\n",
       "    }\n",
       "</style>\n",
       "<table border=\"1\" class=\"dataframe\">\n",
       "  <thead>\n",
       "    <tr style=\"text-align: right;\">\n",
       "      <th></th>\n",
       "      <th>House Number</th>\n",
       "      <th>Street</th>\n",
       "      <th>First Name</th>\n",
       "      <th>Surname</th>\n",
       "      <th>Age</th>\n",
       "      <th>Relationship to Head of House</th>\n",
       "      <th>Marital Status</th>\n",
       "      <th>Gender</th>\n",
       "      <th>Occupation</th>\n",
       "      <th>Infirmity</th>\n",
       "      <th>Religion</th>\n",
       "      <th>Address</th>\n",
       "    </tr>\n",
       "  </thead>\n",
       "  <tbody>\n",
       "    <tr>\n",
       "      <th>81</th>\n",
       "      <td>36</td>\n",
       "      <td>Morgan Avenue</td>\n",
       "      <td>NaN</td>\n",
       "      <td>Jade Alexander</td>\n",
       "      <td>32</td>\n",
       "      <td>Head</td>\n",
       "      <td>Divorced</td>\n",
       "      <td>F</td>\n",
       "      <td>Educational psychologist</td>\n",
       "      <td>None</td>\n",
       "      <td>Muslim</td>\n",
       "      <td>36, Morgan Avenue</td>\n",
       "    </tr>\n",
       "    <tr>\n",
       "      <th>1660</th>\n",
       "      <td>23</td>\n",
       "      <td>Belle Center</td>\n",
       "      <td>NaN</td>\n",
       "      <td>James Young</td>\n",
       "      <td>50</td>\n",
       "      <td>Husband</td>\n",
       "      <td>Married</td>\n",
       "      <td>M</td>\n",
       "      <td>Education officer, museum</td>\n",
       "      <td>None</td>\n",
       "      <td>None</td>\n",
       "      <td>23, Belle Center</td>\n",
       "    </tr>\n",
       "  </tbody>\n",
       "</table>\n",
       "</div>"
      ],
      "text/plain": [
       "      House Number         Street First Name         Surname Age  \\\n",
       "81              36  Morgan Avenue        NaN  Jade Alexander  32   \n",
       "1660            23   Belle Center        NaN     James Young  50   \n",
       "\n",
       "     Relationship to Head of House Marital Status Gender  \\\n",
       "81                            Head       Divorced      F   \n",
       "1660                       Husband        Married      M   \n",
       "\n",
       "                     Occupation Infirmity Religion            Address  \n",
       "81     Educational psychologist      None   Muslim  36, Morgan Avenue  \n",
       "1660  Education officer, museum      None     None   23, Belle Center  "
      ]
     },
     "execution_count": 22,
     "metadata": {},
     "output_type": "execute_result"
    }
   ],
   "source": [
    "# Here they are:\n",
    "null_fname = census_df.loc[census_df['First Name'].isnull()]\n",
    "null_fname"
   ]
  },
  {
   "cell_type": "code",
   "execution_count": 23,
   "id": "b1244c54",
   "metadata": {},
   "outputs": [],
   "source": [
    "household_mems = dict()\n",
    "for i in null_fname.index:\n",
    "    household_mems[i] = census_df.loc[census_df['Address'] == null_fname.loc[i, 'Address']]"
   ]
  },
  {
   "cell_type": "markdown",
   "id": "b2ffef41",
   "metadata": {},
   "source": [
    "<br><br>For Jade Alexander"
   ]
  },
  {
   "cell_type": "code",
   "execution_count": 24,
   "id": "f4ea91c6",
   "metadata": {},
   "outputs": [
    {
     "data": {
      "text/html": [
       "<div>\n",
       "<style scoped>\n",
       "    .dataframe tbody tr th:only-of-type {\n",
       "        vertical-align: middle;\n",
       "    }\n",
       "\n",
       "    .dataframe tbody tr th {\n",
       "        vertical-align: top;\n",
       "    }\n",
       "\n",
       "    .dataframe thead th {\n",
       "        text-align: right;\n",
       "    }\n",
       "</style>\n",
       "<table border=\"1\" class=\"dataframe\">\n",
       "  <thead>\n",
       "    <tr style=\"text-align: right;\">\n",
       "      <th></th>\n",
       "      <th>House Number</th>\n",
       "      <th>Street</th>\n",
       "      <th>First Name</th>\n",
       "      <th>Surname</th>\n",
       "      <th>Age</th>\n",
       "      <th>Relationship to Head of House</th>\n",
       "      <th>Marital Status</th>\n",
       "      <th>Gender</th>\n",
       "      <th>Occupation</th>\n",
       "      <th>Infirmity</th>\n",
       "      <th>Religion</th>\n",
       "      <th>Address</th>\n",
       "    </tr>\n",
       "  </thead>\n",
       "  <tbody>\n",
       "    <tr>\n",
       "      <th>81</th>\n",
       "      <td>36</td>\n",
       "      <td>Morgan Avenue</td>\n",
       "      <td>NaN</td>\n",
       "      <td>Jade Alexander</td>\n",
       "      <td>32</td>\n",
       "      <td>Head</td>\n",
       "      <td>Divorced</td>\n",
       "      <td>F</td>\n",
       "      <td>Educational psychologist</td>\n",
       "      <td>None</td>\n",
       "      <td>Muslim</td>\n",
       "      <td>36, Morgan Avenue</td>\n",
       "    </tr>\n",
       "  </tbody>\n",
       "</table>\n",
       "</div>"
      ],
      "text/plain": [
       "    House Number         Street First Name         Surname Age  \\\n",
       "81            36  Morgan Avenue        NaN  Jade Alexander  32   \n",
       "\n",
       "   Relationship to Head of House Marital Status Gender  \\\n",
       "81                          Head       Divorced      F   \n",
       "\n",
       "                  Occupation Infirmity Religion            Address  \n",
       "81  Educational psychologist      None   Muslim  36, Morgan Avenue  "
      ]
     },
     "execution_count": 24,
     "metadata": {},
     "output_type": "execute_result"
    }
   ],
   "source": [
    "household_mems[81]"
   ]
  },
  {
   "cell_type": "markdown",
   "id": "39abae1f",
   "metadata": {},
   "source": [
    "I think that Jade Alexander errorneously filled in her first name and last name in the surname textbox.<br>\n",
    "Unfortunately there are no other occupants in her household which could have been used to confirm their surname.<br>\n",
    "**However, I am convinced that her first name is Jade and surname is Alexander.** And shall proceed to effect this changes"
   ]
  },
  {
   "cell_type": "code",
   "execution_count": 25,
   "id": "d8a328b9",
   "metadata": {},
   "outputs": [],
   "source": [
    "fn, ln = null_fname['Surname'].str.split().loc[81]\n",
    "fnames.loc[81] = fn\n",
    "census_df.loc[81, 'Surname'] = ln"
   ]
  },
  {
   "cell_type": "code",
   "execution_count": 26,
   "id": "6c4720a7",
   "metadata": {},
   "outputs": [
    {
     "data": {
      "text/plain": [
       "House Number                                           36\n",
       "Street                                      Morgan Avenue\n",
       "First Name                                            NaN\n",
       "Surname                                         Alexander\n",
       "Age                                                    32\n",
       "Relationship to Head of House                        Head\n",
       "Marital Status                                   Divorced\n",
       "Gender                                                  F\n",
       "Occupation                       Educational psychologist\n",
       "Infirmity                                            None\n",
       "Religion                                           Muslim\n",
       "Address                                 36, Morgan Avenue\n",
       "Name: 81, dtype: object"
      ]
     },
     "execution_count": 26,
     "metadata": {},
     "output_type": "execute_result"
    }
   ],
   "source": [
    "census_df.loc[81]"
   ]
  },
  {
   "cell_type": "markdown",
   "id": "48d63ecb",
   "metadata": {},
   "source": [
    "<br><br>For James Young:"
   ]
  },
  {
   "cell_type": "code",
   "execution_count": 27,
   "id": "9f9973b0",
   "metadata": {},
   "outputs": [
    {
     "data": {
      "text/html": [
       "<div>\n",
       "<style scoped>\n",
       "    .dataframe tbody tr th:only-of-type {\n",
       "        vertical-align: middle;\n",
       "    }\n",
       "\n",
       "    .dataframe tbody tr th {\n",
       "        vertical-align: top;\n",
       "    }\n",
       "\n",
       "    .dataframe thead th {\n",
       "        text-align: right;\n",
       "    }\n",
       "</style>\n",
       "<table border=\"1\" class=\"dataframe\">\n",
       "  <thead>\n",
       "    <tr style=\"text-align: right;\">\n",
       "      <th></th>\n",
       "      <th>House Number</th>\n",
       "      <th>Street</th>\n",
       "      <th>First Name</th>\n",
       "      <th>Surname</th>\n",
       "      <th>Age</th>\n",
       "      <th>Relationship to Head of House</th>\n",
       "      <th>Marital Status</th>\n",
       "      <th>Gender</th>\n",
       "      <th>Occupation</th>\n",
       "      <th>Infirmity</th>\n",
       "      <th>Religion</th>\n",
       "      <th>Address</th>\n",
       "    </tr>\n",
       "  </thead>\n",
       "  <tbody>\n",
       "    <tr>\n",
       "      <th>1659</th>\n",
       "      <td>23</td>\n",
       "      <td>Belle Center</td>\n",
       "      <td>Georgia</td>\n",
       "      <td>Young</td>\n",
       "      <td>52</td>\n",
       "      <td>Head</td>\n",
       "      <td>Married</td>\n",
       "      <td>F</td>\n",
       "      <td>Water quality scientist</td>\n",
       "      <td>None</td>\n",
       "      <td>None</td>\n",
       "      <td>23, Belle Center</td>\n",
       "    </tr>\n",
       "    <tr>\n",
       "      <th>1660</th>\n",
       "      <td>23</td>\n",
       "      <td>Belle Center</td>\n",
       "      <td>NaN</td>\n",
       "      <td>James Young</td>\n",
       "      <td>50</td>\n",
       "      <td>Husband</td>\n",
       "      <td>Married</td>\n",
       "      <td>M</td>\n",
       "      <td>Education officer, museum</td>\n",
       "      <td>None</td>\n",
       "      <td>None</td>\n",
       "      <td>23, Belle Center</td>\n",
       "    </tr>\n",
       "    <tr>\n",
       "      <th>1661</th>\n",
       "      <td>23</td>\n",
       "      <td>Belle Center</td>\n",
       "      <td>Vanessa</td>\n",
       "      <td>Young</td>\n",
       "      <td>16</td>\n",
       "      <td>Daughter</td>\n",
       "      <td>NaN</td>\n",
       "      <td>F</td>\n",
       "      <td>Student</td>\n",
       "      <td>None</td>\n",
       "      <td>NaN</td>\n",
       "      <td>23, Belle Center</td>\n",
       "    </tr>\n",
       "  </tbody>\n",
       "</table>\n",
       "</div>"
      ],
      "text/plain": [
       "      House Number        Street First Name      Surname Age  \\\n",
       "1659            23  Belle Center    Georgia        Young  52   \n",
       "1660            23  Belle Center        NaN  James Young  50   \n",
       "1661            23  Belle Center    Vanessa        Young  16   \n",
       "\n",
       "     Relationship to Head of House Marital Status Gender  \\\n",
       "1659                          Head        Married      F   \n",
       "1660                       Husband        Married      M   \n",
       "1661                      Daughter            NaN      F   \n",
       "\n",
       "                     Occupation Infirmity Religion           Address  \n",
       "1659    Water quality scientist      None     None  23, Belle Center  \n",
       "1660  Education officer, museum      None     None  23, Belle Center  \n",
       "1661                    Student      None      NaN  23, Belle Center  "
      ]
     },
     "execution_count": 27,
     "metadata": {},
     "output_type": "execute_result"
    }
   ],
   "source": [
    "household_mems[1660]"
   ]
  },
  {
   "cell_type": "markdown",
   "id": "dca026cd",
   "metadata": {},
   "source": [
    "From James Young's wife and daughter's surnames, I am certain that their surname is Young.<br>\n",
    "**Thus, I shall assign his First name as James and Surname as Young**"
   ]
  },
  {
   "cell_type": "code",
   "execution_count": 28,
   "id": "1ae146b6",
   "metadata": {},
   "outputs": [],
   "source": [
    "fn, ln = null_fname['Surname'].str.split().loc[1660]\n",
    "fnames.loc[1660] = fn\n",
    "census_df.loc[1660, 'Surname'] = ln"
   ]
  },
  {
   "cell_type": "code",
   "execution_count": 29,
   "id": "2f505122",
   "metadata": {},
   "outputs": [
    {
     "data": {
      "text/plain": [
       "House Number                                            23\n",
       "Street                                        Belle Center\n",
       "First Name                                             NaN\n",
       "Surname                                              Young\n",
       "Age                                                     50\n",
       "Relationship to Head of House                      Husband\n",
       "Marital Status                                     Married\n",
       "Gender                                                   M\n",
       "Occupation                       Education officer, museum\n",
       "Infirmity                                             None\n",
       "Religion                                              None\n",
       "Address                                   23, Belle Center\n",
       "Name: 1660, dtype: object"
      ]
     },
     "execution_count": 29,
     "metadata": {},
     "output_type": "execute_result"
    }
   ],
   "source": [
    "census_df.loc[1660]"
   ]
  },
  {
   "cell_type": "code",
   "execution_count": 30,
   "id": "902476ca",
   "metadata": {},
   "outputs": [
    {
     "data": {
      "text/html": [
       "<div>\n",
       "<style scoped>\n",
       "    .dataframe tbody tr th:only-of-type {\n",
       "        vertical-align: middle;\n",
       "    }\n",
       "\n",
       "    .dataframe tbody tr th {\n",
       "        vertical-align: top;\n",
       "    }\n",
       "\n",
       "    .dataframe thead th {\n",
       "        text-align: right;\n",
       "    }\n",
       "</style>\n",
       "<table border=\"1\" class=\"dataframe\">\n",
       "  <thead>\n",
       "    <tr style=\"text-align: right;\">\n",
       "      <th></th>\n",
       "      <th>House Number</th>\n",
       "      <th>Street</th>\n",
       "      <th>First Name</th>\n",
       "      <th>Surname</th>\n",
       "      <th>Age</th>\n",
       "      <th>Relationship to Head of House</th>\n",
       "      <th>Marital Status</th>\n",
       "      <th>Gender</th>\n",
       "      <th>Occupation</th>\n",
       "      <th>Infirmity</th>\n",
       "      <th>Religion</th>\n",
       "      <th>Address</th>\n",
       "    </tr>\n",
       "  </thead>\n",
       "  <tbody>\n",
       "    <tr>\n",
       "      <th>1415</th>\n",
       "      <td>5</td>\n",
       "      <td>Coconutbelt Lane</td>\n",
       "      <td>Emily-Anne</td>\n",
       "      <td>Williams</td>\n",
       "      <td>47</td>\n",
       "      <td>Head</td>\n",
       "      <td>Married</td>\n",
       "      <td>F</td>\n",
       "      <td>Engineer, building services</td>\n",
       "      <td>None</td>\n",
       "      <td>Methodist</td>\n",
       "      <td>5, Coconutbelt Lane</td>\n",
       "    </tr>\n",
       "    <tr>\n",
       "      <th>1456</th>\n",
       "      <td>4</td>\n",
       "      <td>North Road</td>\n",
       "      <td>Billy-Joel</td>\n",
       "      <td>Scott</td>\n",
       "      <td>28</td>\n",
       "      <td>Son</td>\n",
       "      <td>Single</td>\n",
       "      <td>M</td>\n",
       "      <td>Unemployed</td>\n",
       "      <td>None</td>\n",
       "      <td>None</td>\n",
       "      <td>4, North Road</td>\n",
       "    </tr>\n",
       "    <tr>\n",
       "      <th>5711</th>\n",
       "      <td>27</td>\n",
       "      <td>Calendar Ranch</td>\n",
       "      <td>Billy-Joe</td>\n",
       "      <td>Ali</td>\n",
       "      <td>11</td>\n",
       "      <td>Son</td>\n",
       "      <td>NaN</td>\n",
       "      <td>M</td>\n",
       "      <td>Student</td>\n",
       "      <td>None</td>\n",
       "      <td>NaN</td>\n",
       "      <td>27, Calendar Ranch</td>\n",
       "    </tr>\n",
       "  </tbody>\n",
       "</table>\n",
       "</div>"
      ],
      "text/plain": [
       "      House Number            Street  First Name   Surname Age  \\\n",
       "1415             5  Coconutbelt Lane  Emily-Anne  Williams  47   \n",
       "1456             4        North Road  Billy-Joel     Scott  28   \n",
       "5711            27    Calendar Ranch   Billy-Joe       Ali  11   \n",
       "\n",
       "     Relationship to Head of House Marital Status Gender  \\\n",
       "1415                          Head        Married      F   \n",
       "1456                           Son         Single      M   \n",
       "5711                           Son            NaN      M   \n",
       "\n",
       "                       Occupation Infirmity   Religion              Address  \n",
       "1415  Engineer, building services      None  Methodist  5, Coconutbelt Lane  \n",
       "1456                   Unemployed      None       None        4, North Road  \n",
       "5711                      Student      None        NaN   27, Calendar Ranch  "
      ]
     },
     "execution_count": 30,
     "metadata": {},
     "output_type": "execute_result"
    }
   ],
   "source": [
    "census_df.loc[fnames.loc[fnames.str.contains(\"-\")].index]"
   ]
  },
  {
   "cell_type": "markdown",
   "id": "dec9da92",
   "metadata": {},
   "source": [
    "#### Fix in-between spaces"
   ]
  },
  {
   "cell_type": "code",
   "execution_count": 31,
   "id": "677477af",
   "metadata": {},
   "outputs": [
    {
     "data": {
      "text/html": [
       "<div>\n",
       "<style scoped>\n",
       "    .dataframe tbody tr th:only-of-type {\n",
       "        vertical-align: middle;\n",
       "    }\n",
       "\n",
       "    .dataframe tbody tr th {\n",
       "        vertical-align: top;\n",
       "    }\n",
       "\n",
       "    .dataframe thead th {\n",
       "        text-align: right;\n",
       "    }\n",
       "</style>\n",
       "<table border=\"1\" class=\"dataframe\">\n",
       "  <thead>\n",
       "    <tr style=\"text-align: right;\">\n",
       "      <th></th>\n",
       "      <th>House Number</th>\n",
       "      <th>Street</th>\n",
       "      <th>First Name</th>\n",
       "      <th>Surname</th>\n",
       "      <th>Age</th>\n",
       "      <th>Relationship to Head of House</th>\n",
       "      <th>Marital Status</th>\n",
       "      <th>Gender</th>\n",
       "      <th>Occupation</th>\n",
       "      <th>Infirmity</th>\n",
       "      <th>Religion</th>\n",
       "      <th>Address</th>\n",
       "    </tr>\n",
       "  </thead>\n",
       "  <tbody>\n",
       "    <tr>\n",
       "      <th>7199</th>\n",
       "      <td>48</td>\n",
       "      <td>Aethelstan Prairie</td>\n",
       "      <td>Emily Anne</td>\n",
       "      <td>Lawrence</td>\n",
       "      <td>62</td>\n",
       "      <td>Head</td>\n",
       "      <td>Single</td>\n",
       "      <td>F</td>\n",
       "      <td>Education officer, environmental</td>\n",
       "      <td>None</td>\n",
       "      <td>None</td>\n",
       "      <td>48, Aethelstan Prairie</td>\n",
       "    </tr>\n",
       "  </tbody>\n",
       "</table>\n",
       "</div>"
      ],
      "text/plain": [
       "      House Number              Street  First Name   Surname Age  \\\n",
       "7199            48  Aethelstan Prairie  Emily Anne  Lawrence  62   \n",
       "\n",
       "     Relationship to Head of House Marital Status Gender  \\\n",
       "7199                          Head         Single      F   \n",
       "\n",
       "                            Occupation Infirmity Religion  \\\n",
       "7199  Education officer, environmental      None     None   \n",
       "\n",
       "                     Address  \n",
       "7199  48, Aethelstan Prairie  "
      ]
     },
     "execution_count": 31,
     "metadata": {},
     "output_type": "execute_result"
    }
   ],
   "source": [
    "census_df.loc[fnames.loc[fnames.str.contains(\" \")].index]"
   ]
  },
  {
   "cell_type": "markdown",
   "id": "98efeae8",
   "metadata": {},
   "source": [
    "**NOTE:**<br>\n",
    "For sake of consistency, I shall replace any in-between spaces with a dash \"-\""
   ]
  },
  {
   "cell_type": "code",
   "execution_count": 32,
   "id": "9bb48f09",
   "metadata": {},
   "outputs": [],
   "source": [
    "fnames.loc[fnames.str.contains(\" \")] = fnames.str.replace(\" \", \"-\")"
   ]
  },
  {
   "cell_type": "code",
   "execution_count": 33,
   "id": "9c35b2c8",
   "metadata": {},
   "outputs": [
    {
     "data": {
      "text/plain": [
       "1415    Emily-Anne\n",
       "1456    Billy-Joel\n",
       "5711     Billy-Joe\n",
       "7199    Emily-Anne\n",
       "Name: First Name, dtype: object"
      ]
     },
     "execution_count": 33,
     "metadata": {},
     "output_type": "execute_result"
    }
   ],
   "source": [
    "fnames.loc[fnames.str.contains(\"-\")]"
   ]
  },
  {
   "cell_type": "markdown",
   "id": "71bead32",
   "metadata": {},
   "source": [
    "#### Replace the old \"First Name\" column in the original census_df dataframe with cleaned series, \"fnames\"."
   ]
  },
  {
   "cell_type": "code",
   "execution_count": 34,
   "id": "483f5570",
   "metadata": {},
   "outputs": [],
   "source": [
    "census_df['First Name'] = fnames"
   ]
  },
  {
   "cell_type": "code",
   "execution_count": 35,
   "id": "a9f07867",
   "metadata": {},
   "outputs": [
    {
     "data": {
      "text/plain": [
       "0"
      ]
     },
     "execution_count": 35,
     "metadata": {},
     "output_type": "execute_result"
    }
   ],
   "source": [
    "cd.null_checker(census_df['First Name'])"
   ]
  },
  {
   "cell_type": "markdown",
   "id": "91b24c55",
   "metadata": {},
   "source": [
    "___"
   ]
  },
  {
   "cell_type": "markdown",
   "id": "5e35a95c",
   "metadata": {},
   "source": [
    "### Surname"
   ]
  },
  {
   "cell_type": "code",
   "execution_count": 36,
   "id": "34cc4ac2",
   "metadata": {},
   "outputs": [],
   "source": [
    "lnames = copy.deepcopy(census_df['Surname'])"
   ]
  },
  {
   "cell_type": "code",
   "execution_count": 37,
   "id": "d981fdb7",
   "metadata": {},
   "outputs": [
    {
     "data": {
      "text/plain": [
       "0"
      ]
     },
     "execution_count": 37,
     "metadata": {},
     "output_type": "execute_result"
    }
   ],
   "source": [
    "# check for nan values\n",
    "cd.null_checker(lnames)"
   ]
  },
  {
   "cell_type": "markdown",
   "id": "e93d4d89",
   "metadata": {},
   "source": [
    "No nan values in the Surname column<br><br>"
   ]
  },
  {
   "cell_type": "code",
   "execution_count": 38,
   "id": "309dd7c3",
   "metadata": {},
   "outputs": [
    {
     "data": {
      "text/plain": [
       "True"
      ]
     },
     "execution_count": 38,
     "metadata": {},
     "output_type": "execute_result"
    }
   ],
   "source": [
    "# check for empty or blank strings\n",
    "cd.check_for_empty_str(census_df)['Surname']"
   ]
  },
  {
   "cell_type": "code",
   "execution_count": 39,
   "id": "157f95a7",
   "metadata": {},
   "outputs": [
    {
     "data": {
      "text/plain": [
       "5058     \n",
       "Name: Surname, dtype: object"
      ]
     },
     "execution_count": 39,
     "metadata": {},
     "output_type": "execute_result"
    }
   ],
   "source": [
    "# check for in-between spaces\n",
    "lnames.loc[lnames.str.contains(\" \")]"
   ]
  },
  {
   "cell_type": "markdown",
   "id": "fd38417b",
   "metadata": {},
   "source": [
    "<br><br>Surname columns contains blank(s).<br>\n",
    "They are:"
   ]
  },
  {
   "cell_type": "code",
   "execution_count": 40,
   "id": "ccee3608",
   "metadata": {},
   "outputs": [
    {
     "data": {
      "text/html": [
       "<div>\n",
       "<style scoped>\n",
       "    .dataframe tbody tr th:only-of-type {\n",
       "        vertical-align: middle;\n",
       "    }\n",
       "\n",
       "    .dataframe tbody tr th {\n",
       "        vertical-align: top;\n",
       "    }\n",
       "\n",
       "    .dataframe thead th {\n",
       "        text-align: right;\n",
       "    }\n",
       "</style>\n",
       "<table border=\"1\" class=\"dataframe\">\n",
       "  <thead>\n",
       "    <tr style=\"text-align: right;\">\n",
       "      <th></th>\n",
       "      <th>House Number</th>\n",
       "      <th>Street</th>\n",
       "      <th>First Name</th>\n",
       "      <th>Surname</th>\n",
       "      <th>Age</th>\n",
       "      <th>Relationship to Head of House</th>\n",
       "      <th>Marital Status</th>\n",
       "      <th>Gender</th>\n",
       "      <th>Occupation</th>\n",
       "      <th>Infirmity</th>\n",
       "      <th>Religion</th>\n",
       "      <th>Address</th>\n",
       "    </tr>\n",
       "  </thead>\n",
       "  <tbody>\n",
       "    <tr>\n",
       "      <th>5058</th>\n",
       "      <td>114</td>\n",
       "      <td>James Views</td>\n",
       "      <td>Aaron</td>\n",
       "      <td></td>\n",
       "      <td>34</td>\n",
       "      <td>Husband</td>\n",
       "      <td>Married</td>\n",
       "      <td>M</td>\n",
       "      <td>Data scientist</td>\n",
       "      <td>None</td>\n",
       "      <td>None</td>\n",
       "      <td>114, James Views</td>\n",
       "    </tr>\n",
       "  </tbody>\n",
       "</table>\n",
       "</div>"
      ],
      "text/plain": [
       "      House Number       Street First Name Surname Age  \\\n",
       "5058           114  James Views      Aaron          34   \n",
       "\n",
       "     Relationship to Head of House Marital Status Gender      Occupation  \\\n",
       "5058                       Husband        Married      M  Data scientist   \n",
       "\n",
       "     Infirmity Religion           Address  \n",
       "5058      None     None  114, James Views  "
      ]
     },
     "execution_count": 40,
     "metadata": {},
     "output_type": "execute_result"
    }
   ],
   "source": [
    "blank_lname = census_df.loc[census_df['Surname'] == ' ']\n",
    "blank_lname"
   ]
  },
  {
   "cell_type": "code",
   "execution_count": 41,
   "id": "034e1993",
   "metadata": {},
   "outputs": [
    {
     "data": {
      "text/html": [
       "<div>\n",
       "<style scoped>\n",
       "    .dataframe tbody tr th:only-of-type {\n",
       "        vertical-align: middle;\n",
       "    }\n",
       "\n",
       "    .dataframe tbody tr th {\n",
       "        vertical-align: top;\n",
       "    }\n",
       "\n",
       "    .dataframe thead th {\n",
       "        text-align: right;\n",
       "    }\n",
       "</style>\n",
       "<table border=\"1\" class=\"dataframe\">\n",
       "  <thead>\n",
       "    <tr style=\"text-align: right;\">\n",
       "      <th></th>\n",
       "      <th>House Number</th>\n",
       "      <th>Street</th>\n",
       "      <th>First Name</th>\n",
       "      <th>Surname</th>\n",
       "      <th>Age</th>\n",
       "      <th>Relationship to Head of House</th>\n",
       "      <th>Marital Status</th>\n",
       "      <th>Gender</th>\n",
       "      <th>Occupation</th>\n",
       "      <th>Infirmity</th>\n",
       "      <th>Religion</th>\n",
       "      <th>Address</th>\n",
       "    </tr>\n",
       "  </thead>\n",
       "  <tbody>\n",
       "    <tr>\n",
       "      <th>5057</th>\n",
       "      <td>114</td>\n",
       "      <td>James Views</td>\n",
       "      <td>Andrea</td>\n",
       "      <td>James</td>\n",
       "      <td>33</td>\n",
       "      <td>Head</td>\n",
       "      <td>Married</td>\n",
       "      <td>F</td>\n",
       "      <td>Dealer</td>\n",
       "      <td>None</td>\n",
       "      <td>None</td>\n",
       "      <td>114, James Views</td>\n",
       "    </tr>\n",
       "    <tr>\n",
       "      <th>5058</th>\n",
       "      <td>114</td>\n",
       "      <td>James Views</td>\n",
       "      <td>Aaron</td>\n",
       "      <td></td>\n",
       "      <td>34</td>\n",
       "      <td>Husband</td>\n",
       "      <td>Married</td>\n",
       "      <td>M</td>\n",
       "      <td>Data scientist</td>\n",
       "      <td>None</td>\n",
       "      <td>None</td>\n",
       "      <td>114, James Views</td>\n",
       "    </tr>\n",
       "    <tr>\n",
       "      <th>5059</th>\n",
       "      <td>114</td>\n",
       "      <td>James Views</td>\n",
       "      <td>Samantha</td>\n",
       "      <td>James</td>\n",
       "      <td>4</td>\n",
       "      <td>Daughter</td>\n",
       "      <td>NaN</td>\n",
       "      <td>F</td>\n",
       "      <td>Child</td>\n",
       "      <td>None</td>\n",
       "      <td>NaN</td>\n",
       "      <td>114, James Views</td>\n",
       "    </tr>\n",
       "  </tbody>\n",
       "</table>\n",
       "</div>"
      ],
      "text/plain": [
       "      House Number       Street First Name Surname Age  \\\n",
       "5057           114  James Views     Andrea   James  33   \n",
       "5058           114  James Views      Aaron          34   \n",
       "5059           114  James Views   Samantha   James   4   \n",
       "\n",
       "     Relationship to Head of House Marital Status Gender      Occupation  \\\n",
       "5057                          Head        Married      F          Dealer   \n",
       "5058                       Husband        Married      M  Data scientist   \n",
       "5059                      Daughter            NaN      F           Child   \n",
       "\n",
       "     Infirmity Religion           Address  \n",
       "5057      None     None  114, James Views  \n",
       "5058      None     None  114, James Views  \n",
       "5059      None      NaN  114, James Views  "
      ]
     },
     "execution_count": 41,
     "metadata": {},
     "output_type": "execute_result"
    }
   ],
   "source": [
    "# look at surnames of other occupants in the same household\n",
    "census_df.loc[census_df['Address'] == blank_lname.loc[5058, 'Address']]"
   ]
  },
  {
   "cell_type": "markdown",
   "id": "53d0aad4",
   "metadata": {},
   "source": [
    "<br><br>It is clear that Aaron lives with his wife (Andrea) and daughter (Samantha), both of whose surname is James.<br>\n",
    "**Hence, I shall be assigning the same surname, James, to Aaron.**"
   ]
  },
  {
   "cell_type": "code",
   "execution_count": 42,
   "id": "d98e65f0",
   "metadata": {},
   "outputs": [],
   "source": [
    "lnames.loc[5058] = 'James'"
   ]
  },
  {
   "cell_type": "code",
   "execution_count": 43,
   "id": "f2ec0b87",
   "metadata": {},
   "outputs": [
    {
     "data": {
      "text/plain": [
       "Series([], Name: Surname, dtype: object)"
      ]
     },
     "execution_count": 43,
     "metadata": {},
     "output_type": "execute_result"
    }
   ],
   "source": [
    "lnames.loc[lnames == ' ']"
   ]
  },
  {
   "cell_type": "code",
   "execution_count": 44,
   "id": "a35c7565",
   "metadata": {},
   "outputs": [
    {
     "data": {
      "text/plain": [
       "110            Williamson-Hill\n",
       "111      Payne-Williamson-Hill\n",
       "127           Harrison-Simpson\n",
       "174              Kelly-Griffin\n",
       "176              Kelly-Griffin\n",
       "                 ...          \n",
       "7478           Parker-Turnbull\n",
       "7479           Parker-Turnbull\n",
       "7480    Arnold-Parker-Turnbull\n",
       "7532               Clark-Quinn\n",
       "7566              Chapman-Cook\n",
       "Name: Surname, Length: 271, dtype: object"
      ]
     },
     "execution_count": 44,
     "metadata": {},
     "output_type": "execute_result"
    }
   ],
   "source": [
    "# check for in-between spaces\n",
    "lnames.loc[lnames.str.contains(\"-\")]"
   ]
  },
  {
   "cell_type": "markdown",
   "id": "4f49cfc4",
   "metadata": {},
   "source": [
    "#### Replace the old \"Surname\" column in the original census_df dataframe with cleaned series, \"lnames\"."
   ]
  },
  {
   "cell_type": "code",
   "execution_count": 45,
   "id": "b25d1a2c",
   "metadata": {},
   "outputs": [],
   "source": [
    "census_df['Surname'] = lnames"
   ]
  },
  {
   "cell_type": "code",
   "execution_count": 46,
   "id": "2c99267e",
   "metadata": {},
   "outputs": [
    {
     "data": {
      "text/plain": [
       "False"
      ]
     },
     "execution_count": 46,
     "metadata": {},
     "output_type": "execute_result"
    }
   ],
   "source": [
    "# check for empty or blank strings\n",
    "cd.check_for_empty_str(census_df)['Surname']"
   ]
  },
  {
   "cell_type": "markdown",
   "id": "7d697ca0",
   "metadata": {},
   "source": [
    "#### Save dataframe changes to filesystem as csv file"
   ]
  },
  {
   "cell_type": "code",
   "execution_count": 47,
   "id": "09a7c47b",
   "metadata": {},
   "outputs": [],
   "source": [
    "fname = \"Name_and_Gender_cleaned.csv\"\n",
    "census_df.to_csv(fname, index=False)"
   ]
  },
  {
   "cell_type": "markdown",
   "id": "54f3bc9d",
   "metadata": {},
   "source": [
    "___"
   ]
  },
  {
   "cell_type": "markdown",
   "id": "2a02503d",
   "metadata": {},
   "source": [
    "**<center> THE END</center>**"
   ]
  },
  {
   "cell_type": "markdown",
   "id": "5425f42a",
   "metadata": {},
   "source": [
    "___"
   ]
  }
 ],
 "metadata": {
  "kernelspec": {
   "display_name": "Python 3 (ipykernel)",
   "language": "python",
   "name": "python3"
  },
  "language_info": {
   "codemirror_mode": {
    "name": "ipython",
    "version": 3
   },
   "file_extension": ".py",
   "mimetype": "text/x-python",
   "name": "python",
   "nbconvert_exporter": "python",
   "pygments_lexer": "ipython3",
   "version": "3.9.7"
  }
 },
 "nbformat": 4,
 "nbformat_minor": 5
}
