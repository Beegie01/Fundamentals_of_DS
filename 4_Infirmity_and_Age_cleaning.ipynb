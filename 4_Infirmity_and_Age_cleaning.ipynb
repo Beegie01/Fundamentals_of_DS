{
 "cells": [
  {
   "cell_type": "code",
   "execution_count": 1,
   "id": "9f5ac4f6",
   "metadata": {},
   "outputs": [],
   "source": [
    "import os\n",
    "import seaborn as sns\n",
    "import copy"
   ]
  },
  {
   "cell_type": "code",
   "execution_count": 2,
   "id": "e83992d7",
   "metadata": {},
   "outputs": [],
   "source": [
    "# Add current working directory to Python's sys path if not included\n",
    "imp_mods = os.sys.path\n",
    "my_pkg = os.getcwd()\n",
    "\n",
    "if my_pkg not in imp_mods:\n",
    "    imp_mods.append(my_pkg)\n",
    "    print('Package imported.')"
   ]
  },
  {
   "cell_type": "code",
   "execution_count": 3,
   "id": "67b9670a",
   "metadata": {},
   "outputs": [],
   "source": [
    "# import class CensusDataset from a customized module census_methods\n",
    "from census_methods import CensusDataset as cd"
   ]
  },
  {
   "cell_type": "code",
   "execution_count": 4,
   "id": "591f5ada",
   "metadata": {},
   "outputs": [],
   "source": [
    "# read-in data from csv file\n",
    "census_df = sns.categorical.pd.read_csv(\"Occupation_and_Rel_to_HH_cleaned.csv\")"
   ]
  },
  {
   "cell_type": "code",
   "execution_count": 5,
   "id": "be0d45cf",
   "metadata": {},
   "outputs": [
    {
     "name": "stdout",
     "output_type": "stream",
     "text": [
      "<class 'pandas.core.frame.DataFrame'>\n",
      "RangeIndex: 7581 entries, 0 to 7580\n",
      "Data columns (total 15 columns):\n",
      " #   Column                         Non-Null Count  Dtype \n",
      "---  ------                         --------------  ----- \n",
      " 0   House Number                   7581 non-null   int64 \n",
      " 1   Street                         7581 non-null   object\n",
      " 2   First Name                     7581 non-null   object\n",
      " 3   Surname                        7581 non-null   object\n",
      " 4   Age                            7581 non-null   object\n",
      " 5   Relationship to Head of House  7581 non-null   object\n",
      " 6   Marital Status                 5904 non-null   object\n",
      " 7   Gender                         7581 non-null   object\n",
      " 8   Occupation                     7581 non-null   object\n",
      " 9   Infirmity                      7581 non-null   object\n",
      " 10  Religion                       5864 non-null   object\n",
      " 11  Address                        7581 non-null   object\n",
      " 12  Retired                        7581 non-null   int64 \n",
      " 13  Employed                       7581 non-null   int64 \n",
      " 14  Is Student                     7581 non-null   int64 \n",
      "dtypes: int64(4), object(11)\n",
      "memory usage: 888.5+ KB\n"
     ]
    }
   ],
   "source": [
    "census_df.info()"
   ]
  },
  {
   "cell_type": "code",
   "execution_count": 6,
   "id": "4c3bea5b",
   "metadata": {},
   "outputs": [
    {
     "data": {
      "text/html": [
       "<div>\n",
       "<style scoped>\n",
       "    .dataframe tbody tr th:only-of-type {\n",
       "        vertical-align: middle;\n",
       "    }\n",
       "\n",
       "    .dataframe tbody tr th {\n",
       "        vertical-align: top;\n",
       "    }\n",
       "\n",
       "    .dataframe thead th {\n",
       "        text-align: right;\n",
       "    }\n",
       "</style>\n",
       "<table border=\"1\" class=\"dataframe\">\n",
       "  <thead>\n",
       "    <tr style=\"text-align: right;\">\n",
       "      <th></th>\n",
       "      <th>House Number</th>\n",
       "      <th>Street</th>\n",
       "      <th>First Name</th>\n",
       "      <th>Surname</th>\n",
       "      <th>Age</th>\n",
       "      <th>Relationship to Head of House</th>\n",
       "      <th>Marital Status</th>\n",
       "      <th>Gender</th>\n",
       "      <th>Occupation</th>\n",
       "      <th>Infirmity</th>\n",
       "      <th>Religion</th>\n",
       "      <th>Address</th>\n",
       "      <th>Retired</th>\n",
       "      <th>Employed</th>\n",
       "      <th>Is Student</th>\n",
       "    </tr>\n",
       "  </thead>\n",
       "  <tbody>\n",
       "    <tr>\n",
       "      <th>0</th>\n",
       "      <td>1</td>\n",
       "      <td>Simmons Meadow</td>\n",
       "      <td>Andrea</td>\n",
       "      <td>Bradley</td>\n",
       "      <td>43</td>\n",
       "      <td>Head</td>\n",
       "      <td>Married</td>\n",
       "      <td>F</td>\n",
       "      <td>Prison officer</td>\n",
       "      <td>None</td>\n",
       "      <td>None</td>\n",
       "      <td>1, Simmons Meadow</td>\n",
       "      <td>0</td>\n",
       "      <td>1</td>\n",
       "      <td>0</td>\n",
       "    </tr>\n",
       "    <tr>\n",
       "      <th>1</th>\n",
       "      <td>1</td>\n",
       "      <td>Simmons Meadow</td>\n",
       "      <td>Peter</td>\n",
       "      <td>Bradley</td>\n",
       "      <td>44</td>\n",
       "      <td>Husband</td>\n",
       "      <td>Married</td>\n",
       "      <td>M</td>\n",
       "      <td>Futures trader</td>\n",
       "      <td>None</td>\n",
       "      <td>None</td>\n",
       "      <td>1, Simmons Meadow</td>\n",
       "      <td>0</td>\n",
       "      <td>1</td>\n",
       "      <td>0</td>\n",
       "    </tr>\n",
       "    <tr>\n",
       "      <th>2</th>\n",
       "      <td>1</td>\n",
       "      <td>Simmons Meadow</td>\n",
       "      <td>Lauren</td>\n",
       "      <td>Bradley</td>\n",
       "      <td>5</td>\n",
       "      <td>Daughter</td>\n",
       "      <td>NaN</td>\n",
       "      <td>F</td>\n",
       "      <td>Student</td>\n",
       "      <td>None</td>\n",
       "      <td>NaN</td>\n",
       "      <td>1, Simmons Meadow</td>\n",
       "      <td>0</td>\n",
       "      <td>0</td>\n",
       "      <td>1</td>\n",
       "    </tr>\n",
       "    <tr>\n",
       "      <th>3</th>\n",
       "      <td>1</td>\n",
       "      <td>Simmons Meadow</td>\n",
       "      <td>Henry</td>\n",
       "      <td>Bradley</td>\n",
       "      <td>5</td>\n",
       "      <td>Son</td>\n",
       "      <td>NaN</td>\n",
       "      <td>M</td>\n",
       "      <td>Student</td>\n",
       "      <td>None</td>\n",
       "      <td>NaN</td>\n",
       "      <td>1, Simmons Meadow</td>\n",
       "      <td>0</td>\n",
       "      <td>0</td>\n",
       "      <td>1</td>\n",
       "    </tr>\n",
       "    <tr>\n",
       "      <th>4</th>\n",
       "      <td>1</td>\n",
       "      <td>Simmons Meadow</td>\n",
       "      <td>Edward</td>\n",
       "      <td>Slater</td>\n",
       "      <td>25</td>\n",
       "      <td>Lodger</td>\n",
       "      <td>Divorced</td>\n",
       "      <td>M</td>\n",
       "      <td>Further education lecturer</td>\n",
       "      <td>None</td>\n",
       "      <td>None</td>\n",
       "      <td>1, Simmons Meadow</td>\n",
       "      <td>0</td>\n",
       "      <td>1</td>\n",
       "      <td>0</td>\n",
       "    </tr>\n",
       "  </tbody>\n",
       "</table>\n",
       "</div>"
      ],
      "text/plain": [
       "   House Number          Street First Name  Surname Age  \\\n",
       "0             1  Simmons Meadow     Andrea  Bradley  43   \n",
       "1             1  Simmons Meadow      Peter  Bradley  44   \n",
       "2             1  Simmons Meadow     Lauren  Bradley   5   \n",
       "3             1  Simmons Meadow      Henry  Bradley   5   \n",
       "4             1  Simmons Meadow     Edward   Slater  25   \n",
       "\n",
       "  Relationship to Head of House Marital Status Gender  \\\n",
       "0                          Head        Married      F   \n",
       "1                       Husband        Married      M   \n",
       "2                      Daughter            NaN      F   \n",
       "3                           Son            NaN      M   \n",
       "4                        Lodger       Divorced      M   \n",
       "\n",
       "                   Occupation Infirmity Religion            Address  Retired  \\\n",
       "0              Prison officer      None     None  1, Simmons Meadow        0   \n",
       "1              Futures trader      None     None  1, Simmons Meadow        0   \n",
       "2                     Student      None      NaN  1, Simmons Meadow        0   \n",
       "3                     Student      None      NaN  1, Simmons Meadow        0   \n",
       "4  Further education lecturer      None     None  1, Simmons Meadow        0   \n",
       "\n",
       "   Employed  Is Student  \n",
       "0         1           0  \n",
       "1         1           0  \n",
       "2         0           1  \n",
       "3         0           1  \n",
       "4         1           0  "
      ]
     },
     "execution_count": 6,
     "metadata": {},
     "output_type": "execute_result"
    }
   ],
   "source": [
    "census_df.head()"
   ]
  },
  {
   "cell_type": "markdown",
   "id": "e1bbd1e7",
   "metadata": {},
   "source": [
    "___"
   ]
  },
  {
   "cell_type": "markdown",
   "id": "c7ccfc0c",
   "metadata": {},
   "source": [
    "### Infirmity"
   ]
  },
  {
   "cell_type": "code",
   "execution_count": 7,
   "id": "89b9792e",
   "metadata": {},
   "outputs": [
    {
     "data": {
      "text/plain": [
       "0"
      ]
     },
     "execution_count": 7,
     "metadata": {},
     "output_type": "execute_result"
    }
   ],
   "source": [
    "# check for null values\n",
    "cd.null_checker(census_df)['Infirmity']"
   ]
  },
  {
   "cell_type": "markdown",
   "id": "08bbee0b",
   "metadata": {},
   "source": [
    "No nan value in the Infirmity column<br><br>"
   ]
  },
  {
   "cell_type": "code",
   "execution_count": 8,
   "id": "e65bdc4a",
   "metadata": {},
   "outputs": [
    {
     "data": {
      "text/plain": [
       "True"
      ]
     },
     "execution_count": 8,
     "metadata": {},
     "output_type": "execute_result"
    }
   ],
   "source": [
    "# check for empty string\n",
    "cd.check_for_empty_str(census_df)['Infirmity']"
   ]
  },
  {
   "cell_type": "code",
   "execution_count": 9,
   "id": "65b182a7",
   "metadata": {},
   "outputs": [],
   "source": [
    "infirmity = copy.deepcopy(census_df['Infirmity'])"
   ]
  },
  {
   "cell_type": "markdown",
   "id": "7a62c97d",
   "metadata": {},
   "source": [
    "Infirmity column contains blank(s).<br>\n",
    "They are:"
   ]
  },
  {
   "cell_type": "code",
   "execution_count": 10,
   "id": "27485880",
   "metadata": {
    "scrolled": true
   },
   "outputs": [
    {
     "data": {
      "text/html": [
       "<div>\n",
       "<style scoped>\n",
       "    .dataframe tbody tr th:only-of-type {\n",
       "        vertical-align: middle;\n",
       "    }\n",
       "\n",
       "    .dataframe tbody tr th {\n",
       "        vertical-align: top;\n",
       "    }\n",
       "\n",
       "    .dataframe thead th {\n",
       "        text-align: right;\n",
       "    }\n",
       "</style>\n",
       "<table border=\"1\" class=\"dataframe\">\n",
       "  <thead>\n",
       "    <tr style=\"text-align: right;\">\n",
       "      <th></th>\n",
       "      <th>House Number</th>\n",
       "      <th>Street</th>\n",
       "      <th>First Name</th>\n",
       "      <th>Surname</th>\n",
       "      <th>Age</th>\n",
       "      <th>Relationship to Head of House</th>\n",
       "      <th>Marital Status</th>\n",
       "      <th>Gender</th>\n",
       "      <th>Occupation</th>\n",
       "      <th>Infirmity</th>\n",
       "      <th>Religion</th>\n",
       "      <th>Address</th>\n",
       "      <th>Retired</th>\n",
       "      <th>Employed</th>\n",
       "      <th>Is Student</th>\n",
       "    </tr>\n",
       "  </thead>\n",
       "  <tbody>\n",
       "    <tr>\n",
       "      <th>340</th>\n",
       "      <td>2</td>\n",
       "      <td>Stirling View</td>\n",
       "      <td>Edward</td>\n",
       "      <td>Chan</td>\n",
       "      <td>44</td>\n",
       "      <td>Son</td>\n",
       "      <td>Single</td>\n",
       "      <td>M</td>\n",
       "      <td>Photographer</td>\n",
       "      <td></td>\n",
       "      <td>Christian</td>\n",
       "      <td>2, Stirling View</td>\n",
       "      <td>0</td>\n",
       "      <td>1</td>\n",
       "      <td>0</td>\n",
       "    </tr>\n",
       "    <tr>\n",
       "      <th>3345</th>\n",
       "      <td>28</td>\n",
       "      <td>Brightwater Drive</td>\n",
       "      <td>Megan</td>\n",
       "      <td>Jones</td>\n",
       "      <td>51</td>\n",
       "      <td>Head</td>\n",
       "      <td>Single</td>\n",
       "      <td>F</td>\n",
       "      <td>Designer, textile</td>\n",
       "      <td></td>\n",
       "      <td>Christian</td>\n",
       "      <td>28, Brightwater Drive</td>\n",
       "      <td>0</td>\n",
       "      <td>1</td>\n",
       "      <td>0</td>\n",
       "    </tr>\n",
       "    <tr>\n",
       "      <th>3419</th>\n",
       "      <td>7</td>\n",
       "      <td>Peacock Neck</td>\n",
       "      <td>Kirsty</td>\n",
       "      <td>Simpson</td>\n",
       "      <td>22</td>\n",
       "      <td>Daughter</td>\n",
       "      <td>Widowed</td>\n",
       "      <td>F</td>\n",
       "      <td>University Student</td>\n",
       "      <td></td>\n",
       "      <td>Catholic</td>\n",
       "      <td>7, Peacock Neck</td>\n",
       "      <td>0</td>\n",
       "      <td>0</td>\n",
       "      <td>1</td>\n",
       "    </tr>\n",
       "    <tr>\n",
       "      <th>4562</th>\n",
       "      <td>6</td>\n",
       "      <td>Friaryrow Street</td>\n",
       "      <td>Debra</td>\n",
       "      <td>Wilkinson</td>\n",
       "      <td>5</td>\n",
       "      <td>Daughter</td>\n",
       "      <td>NaN</td>\n",
       "      <td>F</td>\n",
       "      <td>Student</td>\n",
       "      <td></td>\n",
       "      <td>NaN</td>\n",
       "      <td>6, Friaryrow Street</td>\n",
       "      <td>0</td>\n",
       "      <td>0</td>\n",
       "      <td>1</td>\n",
       "    </tr>\n",
       "    <tr>\n",
       "      <th>5644</th>\n",
       "      <td>8</td>\n",
       "      <td>Calendar Ranch</td>\n",
       "      <td>Jay</td>\n",
       "      <td>Smith</td>\n",
       "      <td>64</td>\n",
       "      <td>Husband</td>\n",
       "      <td>Married</td>\n",
       "      <td>M</td>\n",
       "      <td>Architectural technologist</td>\n",
       "      <td></td>\n",
       "      <td>Christian</td>\n",
       "      <td>8, Calendar Ranch</td>\n",
       "      <td>0</td>\n",
       "      <td>1</td>\n",
       "      <td>0</td>\n",
       "    </tr>\n",
       "  </tbody>\n",
       "</table>\n",
       "</div>"
      ],
      "text/plain": [
       "      House Number             Street First Name    Surname Age  \\\n",
       "340              2      Stirling View     Edward       Chan  44   \n",
       "3345            28  Brightwater Drive      Megan      Jones  51   \n",
       "3419             7       Peacock Neck     Kirsty    Simpson  22   \n",
       "4562             6   Friaryrow Street      Debra  Wilkinson   5   \n",
       "5644             8     Calendar Ranch        Jay      Smith  64   \n",
       "\n",
       "     Relationship to Head of House Marital Status Gender  \\\n",
       "340                            Son         Single      M   \n",
       "3345                          Head         Single      F   \n",
       "3419                      Daughter        Widowed      F   \n",
       "4562                      Daughter            NaN      F   \n",
       "5644                       Husband        Married      M   \n",
       "\n",
       "                      Occupation Infirmity   Religion                Address  \\\n",
       "340                 Photographer            Christian       2, Stirling View   \n",
       "3345           Designer, textile            Christian  28, Brightwater Drive   \n",
       "3419          University Student             Catholic        7, Peacock Neck   \n",
       "4562                     Student                  NaN    6, Friaryrow Street   \n",
       "5644  Architectural technologist            Christian      8, Calendar Ranch   \n",
       "\n",
       "      Retired  Employed  Is Student  \n",
       "340         0         1           0  \n",
       "3345        0         1           0  \n",
       "3419        0         0           1  \n",
       "4562        0         0           1  \n",
       "5644        0         1           0  "
      ]
     },
     "execution_count": 10,
     "metadata": {},
     "output_type": "execute_result"
    }
   ],
   "source": [
    "blank_infirmity = census_df.loc[infirmity.loc[(infirmity == ' ') | \n",
    "                                           (infirmity == '')].index]\n",
    "blank_infirmity"
   ]
  },
  {
   "cell_type": "markdown",
   "id": "f25b6ee9",
   "metadata": {},
   "source": [
    "#### Fix blank Infirmity"
   ]
  },
  {
   "cell_type": "markdown",
   "id": "3de85e34",
   "metadata": {},
   "source": [
    "In this situation, a blank/empty string in the Infirmity column simply means we DO NOT KNOW whether or not that individual has an infirmity.<br>\n",
    "Therefore, I shall be using **'Undisclosed'** as a placeholder for blanks/empty strings.\n",
    "<br><br>"
   ]
  },
  {
   "cell_type": "code",
   "execution_count": 11,
   "id": "37dd7d79",
   "metadata": {},
   "outputs": [],
   "source": [
    "infirmity.loc[blank_infirmity.index] = 'Undisclosed'"
   ]
  },
  {
   "cell_type": "code",
   "execution_count": 12,
   "id": "59078e43",
   "metadata": {},
   "outputs": [
    {
     "data": {
      "text/plain": [
       "340     Undisclosed\n",
       "3345    Undisclosed\n",
       "3419    Undisclosed\n",
       "4562    Undisclosed\n",
       "5644    Undisclosed\n",
       "Name: Infirmity, dtype: object"
      ]
     },
     "execution_count": 12,
     "metadata": {},
     "output_type": "execute_result"
    }
   ],
   "source": [
    "# checking blank entries\n",
    "infirmity.loc[blank_infirmity.index]"
   ]
  },
  {
   "cell_type": "code",
   "execution_count": 13,
   "id": "be6d1e29",
   "metadata": {},
   "outputs": [
    {
     "name": "stdout",
     "output_type": "stream",
     "text": [
      "['None' 'Mental Disability' 'Physical Disability' 'Deaf' 'Undisclosed'\n",
      " 'Disabled' 'Unknown Infection' 'Blind']\n"
     ]
    }
   ],
   "source": [
    "print(infirmity.unique())"
   ]
  },
  {
   "cell_type": "markdown",
   "id": "de554f34",
   "metadata": {},
   "source": [
    "**NOTE:**<br>\n",
    "Blindness and deafness are both forms of physical disability.<br>\n",
    "Therefore, I shall include the blind and deaf to the Physically Disability category.<br><br>"
   ]
  },
  {
   "cell_type": "code",
   "execution_count": 14,
   "id": "fe7fe148",
   "metadata": {},
   "outputs": [],
   "source": [
    "infirmity.loc[(infirmity == \"Blind\") |\n",
    "             (infirmity == \"Deaf\")] = \"Physical Disability\""
   ]
  },
  {
   "cell_type": "code",
   "execution_count": 15,
   "id": "d26a8166",
   "metadata": {},
   "outputs": [
    {
     "name": "stdout",
     "output_type": "stream",
     "text": [
      "['None' 'Mental Disability' 'Physical Disability' 'Undisclosed' 'Disabled'\n",
      " 'Unknown Infection']\n"
     ]
    }
   ],
   "source": [
    "print(infirmity.unique())"
   ]
  },
  {
   "cell_type": "code",
   "execution_count": 16,
   "id": "5f2253f4",
   "metadata": {},
   "outputs": [
    {
     "name": "stdout",
     "output_type": "stream",
     "text": [
      "None                   7540\n",
      "Physical Disability      24\n",
      "Mental Disability         5\n",
      "Undisclosed               5\n",
      "Unknown Infection         5\n",
      "Disabled                  2\n",
      "Name: Infirmity, dtype: int64\n"
     ]
    }
   ],
   "source": [
    "infirmity_freq = infirmity.value_counts()\n",
    "print(infirmity_freq)"
   ]
  },
  {
   "cell_type": "code",
   "execution_count": 17,
   "id": "1e472fba",
   "metadata": {},
   "outputs": [
    {
     "name": "stdout",
     "output_type": "stream",
     "text": [
      "None                   99.459\n",
      "Physical Disability     0.317\n",
      "Mental Disability       0.066\n",
      "Undisclosed             0.066\n",
      "Unknown Infection       0.066\n",
      "Disabled                0.026\n",
      "Name: Infirmity, dtype: float64\n"
     ]
    }
   ],
   "source": [
    "infirmity_freq_perc = sns.categorical.np.round(100 * infirmity_freq/infirmity.shape[0], 3)\n",
    "print(infirmity_freq_perc)"
   ]
  },
  {
   "cell_type": "code",
   "execution_count": 18,
   "id": "a3022a28",
   "metadata": {},
   "outputs": [
    {
     "data": {
      "text/plain": [
       "Physical Disability    24\n",
       "Mental Disability       5\n",
       "Undisclosed             5\n",
       "Unknown Infection       5\n",
       "Disabled                2\n",
       "Name: Infirmity, dtype: int64"
      ]
     },
     "execution_count": 18,
     "metadata": {},
     "output_type": "execute_result"
    }
   ],
   "source": [
    "minority_freq = infirmity_freq.loc[infirmity_freq < 0.1*infirmity.shape[0]]\n",
    "minority_freq"
   ]
  },
  {
   "cell_type": "code",
   "execution_count": 19,
   "id": "3495f58e",
   "metadata": {},
   "outputs": [
    {
     "data": {
      "text/plain": [
       "Physical Disability    0.317\n",
       "Mental Disability      0.066\n",
       "Undisclosed            0.066\n",
       "Unknown Infection      0.066\n",
       "Disabled               0.026\n",
       "Name: Infirmity, dtype: float64"
      ]
     },
     "execution_count": 19,
     "metadata": {},
     "output_type": "execute_result"
    }
   ],
   "source": [
    "minority_freq_perc = infirmity_freq_perc.loc[infirmity_freq_perc < 10]\n",
    "minority_freq_perc"
   ]
  },
  {
   "cell_type": "code",
   "execution_count": 20,
   "id": "f117dde8",
   "metadata": {
    "scrolled": false
   },
   "outputs": [
    {
     "data": {
      "image/png": "[encoded data removed]",
      "text/plain": [
       "<Figure size 750x450 with 4 Axes>"
      ]
     },
     "metadata": {
      "needs_background": "light"
     },
     "output_type": "display_data"
    }
   ],
   "source": [
    "fig = sns.categorical.plt.figure(figsize=(5, 3), dpi=150)\n",
    "l, r = fig.add_axes([0, 0, 0.6, 1]), fig.add_axes([0.925, 0, 0.6, 1])\n",
    "z, z2 = fig.add_axes([0.3, 0.4, 0.25, 0.25]), fig.add_axes([1.1, 0.4, 0.25, 0.25])\n",
    "\n",
    "left = sns.barplot(y=infirmity_freq_perc.index, x=infirmity_freq_perc, order=infirmity_freq_perc.index, ax=l)\n",
    "right = sns.barplot(y=infirmity_freq.index, x=infirmity_freq, \n",
    "                    order=infirmity_freq.index, ax=r)\n",
    "perc_zoomed = sns.barplot(y=minority_freq_perc.index, x=minority_freq_perc, ax=z,\n",
    "                     order=minority_freq_perc.index)\n",
    "zoomed = sns.barplot(y=minority_freq.index, x=minority_freq, ax=z2,\n",
    "                     order=minority_freq.index)\n",
    "\n",
    "left.set_xlabel(\"Population (%)\"), right.set_xlabel(\"Population\")\n",
    "\n",
    "perc_zoomed.set_yticklabels(minority_freq_perc.index, fontsize=5)\n",
    "zoomed.set_yticklabels(minority_freq.index, fontsize=5)\n",
    "\n",
    "left.set_title(\"Percentage Population of Residents Per infirmity\")\n",
    "right.set_title(\"Population of Residents Per infirmity\")\n",
    "\n",
    "sns.relational.plt.show()"
   ]
  },
  {
   "cell_type": "markdown",
   "id": "e32911eb",
   "metadata": {},
   "source": [
    "From the plot above, we can see that over 99% of residents have no infirmity. And Physical Disability is the most prominent infirmity."
   ]
  },
  {
   "cell_type": "markdown",
   "id": "6cc0ca5e",
   "metadata": {},
   "source": [
    "#### Replace the old \"Infirmity\" column in the original census_df dataframe with cleaned series, \"infirmity\"."
   ]
  },
  {
   "cell_type": "code",
   "execution_count": 21,
   "id": "2e90a6dc",
   "metadata": {},
   "outputs": [],
   "source": [
    "census_df['Infirmity'] = infirmity"
   ]
  },
  {
   "cell_type": "code",
   "execution_count": 22,
   "id": "aaaa4a95",
   "metadata": {},
   "outputs": [
    {
     "name": "stdout",
     "output_type": "stream",
     "text": [
      "['None', 'Mental Disability', 'Physical Disability', 'Undisclosed', 'Disabled', 'Unknown Infection']\n"
     ]
    }
   ],
   "source": [
    "print(cd.unique_categs(census_df)['Infirmity'])"
   ]
  },
  {
   "cell_type": "markdown",
   "id": "c7857e0d",
   "metadata": {},
   "source": [
    "___"
   ]
  },
  {
   "cell_type": "markdown",
   "id": "5ade97bb",
   "metadata": {},
   "source": [
    "### Age"
   ]
  },
  {
   "cell_type": "code",
   "execution_count": 23,
   "id": "dcef0227",
   "metadata": {
    "scrolled": true
   },
   "outputs": [
    {
     "name": "stdout",
     "output_type": "stream",
     "text": [
      "0\n"
     ]
    }
   ],
   "source": [
    "print(cd.null_checker(census_df)['Age'])"
   ]
  },
  {
   "cell_type": "markdown",
   "id": "bbad0f22",
   "metadata": {},
   "source": [
    "**NOTE:**<BR>\n",
    "There are no nan values in the Age column"
   ]
  },
  {
   "cell_type": "code",
   "execution_count": 24,
   "id": "5c16dcc1",
   "metadata": {},
   "outputs": [
    {
     "name": "stdout",
     "output_type": "stream",
     "text": [
      "False\n"
     ]
    }
   ],
   "source": [
    "print(cd.check_for_empty_str(census_df)['Age'])"
   ]
  },
  {
   "cell_type": "markdown",
   "id": "26842ba6",
   "metadata": {},
   "source": [
    "**NOTE:**<BR>\n",
    "No blanks in the Age column, as well."
   ]
  },
  {
   "cell_type": "code",
   "execution_count": 25,
   "id": "8ca576c9",
   "metadata": {},
   "outputs": [
    {
     "name": "stdout",
     "output_type": "stream",
     "text": [
      "['43', '44', '5', '25', '24', '3', '105', '73', '19', '10', '57', '30', '2', '88', '85', '52', '56', '28', '47', '20', '75', '59', '42', '61', '67', '66', '76', '77', '50', '26', '27', '55', '53', '29', '11', '22', '64', '68', '38', '34', '32', '37', '13', '69', '81', '60', '72', '31', '54', '83', '41', '39', '33', '4', '48', '62', '70', '46', '16', '84', '65', '15', '21', '40', '14', '12', '23', '74', '7', '51', '92', '6', '45', '63', '18', '36', '55.55', '17', '9', '71', 'Four', '49', '0', '80', '89', '91', '35', '1.75', 'One', '58', '8', '1', '82', '79', '98', '100', '78', '94', '104', '96', '86', '87', '58.5088688', '0.5', '103', '93', '119', '90', '106', '55.52492408', '56.52492408', '131', '107', '55.27579403', '57.27579403', '99', '97', '-1', '95', '55.63583519', '59.22686093']\n"
     ]
    }
   ],
   "source": [
    "print(cd.unique_categs(census_df)['Age'])"
   ]
  },
  {
   "cell_type": "markdown",
   "id": "d56bdcbc",
   "metadata": {},
   "source": [
    "**NOTE:**<br>\n",
    "The current state of Age column is unacceptable. Ideally, ages should be integers. But here, we can see values in different formats such as spelling of numbers, decimal figures in string, and integers in string.<br><br>"
   ]
  },
  {
   "cell_type": "code",
   "execution_count": 26,
   "id": "babd9fe3",
   "metadata": {},
   "outputs": [],
   "source": [
    "# create a copy of age series to avoid making\n",
    "# unwanted changes to the main dataframe\n",
    "age = copy.deepcopy(census_df['Age'])"
   ]
  },
  {
   "cell_type": "markdown",
   "id": "1c18c995",
   "metadata": {},
   "source": [
    "Before we can change the datatype of age to int, we must first make sure that all of its values are convertible to integers"
   ]
  },
  {
   "cell_type": "markdown",
   "id": "c108b07a",
   "metadata": {},
   "source": [
    "#### Change all spellings to numbers"
   ]
  },
  {
   "cell_type": "code",
   "execution_count": 27,
   "id": "e1dd406f",
   "metadata": {},
   "outputs": [],
   "source": [
    "converter = {'One': 1, 'Two': 2, 'Three': 3, 'Four': 4, 'Five': 5}\n",
    "age = cd.transform_val(age, converter)"
   ]
  },
  {
   "cell_type": "code",
   "execution_count": 28,
   "id": "188344f8",
   "metadata": {},
   "outputs": [
    {
     "name": "stdout",
     "output_type": "stream",
     "text": [
      "['43' '44' '5' '25' '24' '3' '105' '73' '19' '10' '57' '30' '2' '88' '85'\n",
      " '52' '56' '28' '47' '20' '75' '59' '42' '61' '67' '66' '76' '77' '50'\n",
      " '26' '27' '55' '53' '29' '11' '22' '64' '68' '38' '34' '32' '37' '13'\n",
      " '69' '81' '60' '72' '31' '54' '83' '41' '39' '33' '4' '48' '62' '70' '46'\n",
      " '16' '84' '65' '15' '21' '40' '14' '12' '23' '74' '7' '51' '92' '6' '45'\n",
      " '63' '18' '36' '55.55' '17' '9' '71' '49' '0' '80' '89' '91' '35' '1.75'\n",
      " '1' '58' '8' '82' '79' '98' '100' '78' '94' '104' '96' '86' '87'\n",
      " '58.5088688' '0.5' '103' '93' '119' '90' '106' '55.52492408'\n",
      " '56.52492408' '131' '107' '55.27579403' '57.27579403' '99' '97' '-1' '95'\n",
      " '55.63583519' '59.22686093']\n"
     ]
    }
   ],
   "source": [
    "print(age.unique())"
   ]
  },
  {
   "cell_type": "markdown",
   "id": "fd1df453",
   "metadata": {},
   "source": [
    "#### Round up all decimals to nearest integers"
   ]
  },
  {
   "cell_type": "code",
   "execution_count": 29,
   "id": "f79f5465",
   "metadata": {},
   "outputs": [],
   "source": [
    "age = age.apply(cd.round_up_num)"
   ]
  },
  {
   "cell_type": "code",
   "execution_count": 30,
   "id": "29df48d2",
   "metadata": {},
   "outputs": [
    {
     "name": "stdout",
     "output_type": "stream",
     "text": [
      "['43' '44' '5' '25' '24' '3' '105' '73' '19' '10' '57' '30' '2' '88' '85'\n",
      " '52' '56' '28' '47' '20' '75' '59' '42' '61' '67' '66' '76' '77' '50'\n",
      " '26' '27' '55' '53' '29' '11' '22' '64' '68' '38' '34' '32' '37' '13'\n",
      " '69' '81' '60' '72' '31' '54' '83' '41' '39' '33' '4' '48' '62' '70' '46'\n",
      " '16' '84' '65' '15' '21' '40' '14' '12' '23' '74' '7' '51' '92' '6' '45'\n",
      " '63' '18' '36' '17' '9' '71' '49' '0' '80' '89' '91' '35' '1' '58' '8'\n",
      " '82' '79' '98' '100' '78' '94' '104' '96' '86' '87' '103' '93' '119' '90'\n",
      " '106' '131' '107' '99' '97' '-1' '95']\n"
     ]
    }
   ],
   "source": [
    "print(age.unique())"
   ]
  },
  {
   "cell_type": "markdown",
   "id": "8f0a025f",
   "metadata": {},
   "source": [
    "After changing spellings to numbers and rounding up all decimals, the values now appear ready to be converted into type int.<br><br>"
   ]
  },
  {
   "cell_type": "markdown",
   "id": "bafbd638",
   "metadata": {},
   "source": [
    "#### Cast the age series to type int"
   ]
  },
  {
   "cell_type": "code",
   "execution_count": 31,
   "id": "23ab3263",
   "metadata": {},
   "outputs": [],
   "source": [
    "age = sns.categorical.pd.to_numeric(age)"
   ]
  },
  {
   "cell_type": "code",
   "execution_count": 32,
   "id": "5a2fbc48",
   "metadata": {},
   "outputs": [
    {
     "name": "stdout",
     "output_type": "stream",
     "text": [
      "int64\n"
     ]
    }
   ],
   "source": [
    "print(age.dtypes)"
   ]
  },
  {
   "cell_type": "code",
   "execution_count": 33,
   "id": "8e130761",
   "metadata": {},
   "outputs": [
    {
     "name": "stdout",
     "output_type": "stream",
     "text": [
      "[ 43  44   5  25  24   3 105  73  19  10  57  30   2  88  85  52  56  28\n",
      "  47  20  75  59  42  61  67  66  76  77  50  26  27  55  53  29  11  22\n",
      "  64  68  38  34  32  37  13  69  81  60  72  31  54  83  41  39  33   4\n",
      "  48  62  70  46  16  84  65  15  21  40  14  12  23  74   7  51  92   6\n",
      "  45  63  18  36  17   9  71  49   0  80  89  91  35   1  58   8  82  79\n",
      "  98 100  78  94 104  96  86  87 103  93 119  90 106 131 107  99  97  -1\n",
      "  95]\n"
     ]
    }
   ],
   "source": [
    "print(age.unique())"
   ]
  },
  {
   "cell_type": "markdown",
   "id": "976426c6",
   "metadata": {},
   "source": [
    "**Fix error of -1 years old**"
   ]
  },
  {
   "cell_type": "code",
   "execution_count": 34,
   "id": "d2164756",
   "metadata": {},
   "outputs": [
    {
     "data": {
      "text/html": [
       "<div>\n",
       "<style scoped>\n",
       "    .dataframe tbody tr th:only-of-type {\n",
       "        vertical-align: middle;\n",
       "    }\n",
       "\n",
       "    .dataframe tbody tr th {\n",
       "        vertical-align: top;\n",
       "    }\n",
       "\n",
       "    .dataframe thead th {\n",
       "        text-align: right;\n",
       "    }\n",
       "</style>\n",
       "<table border=\"1\" class=\"dataframe\">\n",
       "  <thead>\n",
       "    <tr style=\"text-align: right;\">\n",
       "      <th></th>\n",
       "      <th>House Number</th>\n",
       "      <th>Street</th>\n",
       "      <th>First Name</th>\n",
       "      <th>Surname</th>\n",
       "      <th>Age</th>\n",
       "      <th>Relationship to Head of House</th>\n",
       "      <th>Marital Status</th>\n",
       "      <th>Gender</th>\n",
       "      <th>Occupation</th>\n",
       "      <th>Infirmity</th>\n",
       "      <th>Religion</th>\n",
       "      <th>Address</th>\n",
       "      <th>Retired</th>\n",
       "      <th>Employed</th>\n",
       "      <th>Is Student</th>\n",
       "    </tr>\n",
       "  </thead>\n",
       "  <tbody>\n",
       "    <tr>\n",
       "      <th>6432</th>\n",
       "      <td>30</td>\n",
       "      <td>St.Matthew Avenue</td>\n",
       "      <td>Matthew</td>\n",
       "      <td>Wilson-Hughes</td>\n",
       "      <td>-1</td>\n",
       "      <td>Son</td>\n",
       "      <td>NaN</td>\n",
       "      <td>M</td>\n",
       "      <td>Child</td>\n",
       "      <td>None</td>\n",
       "      <td>NaN</td>\n",
       "      <td>30, St.Matthew Avenue</td>\n",
       "      <td>0</td>\n",
       "      <td>0</td>\n",
       "      <td>0</td>\n",
       "    </tr>\n",
       "  </tbody>\n",
       "</table>\n",
       "</div>"
      ],
      "text/plain": [
       "      House Number             Street First Name        Surname Age  \\\n",
       "6432            30  St.Matthew Avenue    Matthew  Wilson-Hughes  -1   \n",
       "\n",
       "     Relationship to Head of House Marital Status Gender Occupation Infirmity  \\\n",
       "6432                           Son            NaN      M      Child      None   \n",
       "\n",
       "     Religion                Address  Retired  Employed  Is Student  \n",
       "6432      NaN  30, St.Matthew Avenue        0         0           0  "
      ]
     },
     "execution_count": 34,
     "metadata": {},
     "output_type": "execute_result"
    }
   ],
   "source": [
    "# Take a look at those having an age of -1\n",
    "neg_age = census_df.loc[age.loc[age == -1].index]\n",
    "neg_age"
   ]
  },
  {
   "cell_type": "markdown",
   "id": "d7bb1bcd",
   "metadata": {},
   "source": [
    "Now we know that Matthew Wilson-Hughes is a boy who resides at 30, St. Matthew Avenue."
   ]
  },
  {
   "cell_type": "code",
   "execution_count": 35,
   "id": "45c6c031",
   "metadata": {},
   "outputs": [
    {
     "data": {
      "text/html": [
       "<div>\n",
       "<style scoped>\n",
       "    .dataframe tbody tr th:only-of-type {\n",
       "        vertical-align: middle;\n",
       "    }\n",
       "\n",
       "    .dataframe tbody tr th {\n",
       "        vertical-align: top;\n",
       "    }\n",
       "\n",
       "    .dataframe thead th {\n",
       "        text-align: right;\n",
       "    }\n",
       "</style>\n",
       "<table border=\"1\" class=\"dataframe\">\n",
       "  <thead>\n",
       "    <tr style=\"text-align: right;\">\n",
       "      <th></th>\n",
       "      <th>House Number</th>\n",
       "      <th>Street</th>\n",
       "      <th>First Name</th>\n",
       "      <th>Surname</th>\n",
       "      <th>Age</th>\n",
       "      <th>Relationship to Head of House</th>\n",
       "      <th>Marital Status</th>\n",
       "      <th>Gender</th>\n",
       "      <th>Occupation</th>\n",
       "      <th>Infirmity</th>\n",
       "      <th>Religion</th>\n",
       "      <th>Address</th>\n",
       "      <th>Retired</th>\n",
       "      <th>Employed</th>\n",
       "      <th>Is Student</th>\n",
       "    </tr>\n",
       "  </thead>\n",
       "  <tbody>\n",
       "    <tr>\n",
       "      <th>6429</th>\n",
       "      <td>30</td>\n",
       "      <td>St.Matthew Avenue</td>\n",
       "      <td>Marilyn</td>\n",
       "      <td>Hughes</td>\n",
       "      <td>21</td>\n",
       "      <td>Head</td>\n",
       "      <td>Married</td>\n",
       "      <td>F</td>\n",
       "      <td>University Student</td>\n",
       "      <td>None</td>\n",
       "      <td>None</td>\n",
       "      <td>30, St.Matthew Avenue</td>\n",
       "      <td>0</td>\n",
       "      <td>0</td>\n",
       "      <td>1</td>\n",
       "    </tr>\n",
       "    <tr>\n",
       "      <th>6430</th>\n",
       "      <td>30</td>\n",
       "      <td>St.Matthew Avenue</td>\n",
       "      <td>Samuel</td>\n",
       "      <td>Hughes</td>\n",
       "      <td>26</td>\n",
       "      <td>Husband</td>\n",
       "      <td>Married</td>\n",
       "      <td>M</td>\n",
       "      <td>Agricultural engineer</td>\n",
       "      <td>None</td>\n",
       "      <td>None</td>\n",
       "      <td>30, St.Matthew Avenue</td>\n",
       "      <td>0</td>\n",
       "      <td>1</td>\n",
       "      <td>0</td>\n",
       "    </tr>\n",
       "    <tr>\n",
       "      <th>6431</th>\n",
       "      <td>30</td>\n",
       "      <td>St.Matthew Avenue</td>\n",
       "      <td>Charlene</td>\n",
       "      <td>Wilson-Hughes</td>\n",
       "      <td>2</td>\n",
       "      <td>Daughter</td>\n",
       "      <td>NaN</td>\n",
       "      <td>F</td>\n",
       "      <td>Child</td>\n",
       "      <td>None</td>\n",
       "      <td>NaN</td>\n",
       "      <td>30, St.Matthew Avenue</td>\n",
       "      <td>0</td>\n",
       "      <td>0</td>\n",
       "      <td>0</td>\n",
       "    </tr>\n",
       "    <tr>\n",
       "      <th>6432</th>\n",
       "      <td>30</td>\n",
       "      <td>St.Matthew Avenue</td>\n",
       "      <td>Matthew</td>\n",
       "      <td>Wilson-Hughes</td>\n",
       "      <td>-1</td>\n",
       "      <td>Son</td>\n",
       "      <td>NaN</td>\n",
       "      <td>M</td>\n",
       "      <td>Child</td>\n",
       "      <td>None</td>\n",
       "      <td>NaN</td>\n",
       "      <td>30, St.Matthew Avenue</td>\n",
       "      <td>0</td>\n",
       "      <td>0</td>\n",
       "      <td>0</td>\n",
       "    </tr>\n",
       "    <tr>\n",
       "      <th>6433</th>\n",
       "      <td>30</td>\n",
       "      <td>St.Matthew Avenue</td>\n",
       "      <td>Declan</td>\n",
       "      <td>Wallis</td>\n",
       "      <td>63</td>\n",
       "      <td>Lodger</td>\n",
       "      <td>Divorced</td>\n",
       "      <td>M</td>\n",
       "      <td>Research scientist (medical)</td>\n",
       "      <td>None</td>\n",
       "      <td>Catholic</td>\n",
       "      <td>30, St.Matthew Avenue</td>\n",
       "      <td>0</td>\n",
       "      <td>1</td>\n",
       "      <td>0</td>\n",
       "    </tr>\n",
       "    <tr>\n",
       "      <th>6434</th>\n",
       "      <td>30</td>\n",
       "      <td>St.Matthew Avenue</td>\n",
       "      <td>Jordan</td>\n",
       "      <td>Dawson</td>\n",
       "      <td>32</td>\n",
       "      <td>Lodger</td>\n",
       "      <td>Single</td>\n",
       "      <td>M</td>\n",
       "      <td>Exercise physiologist</td>\n",
       "      <td>None</td>\n",
       "      <td>Muslim</td>\n",
       "      <td>30, St.Matthew Avenue</td>\n",
       "      <td>0</td>\n",
       "      <td>1</td>\n",
       "      <td>0</td>\n",
       "    </tr>\n",
       "  </tbody>\n",
       "</table>\n",
       "</div>"
      ],
      "text/plain": [
       "      House Number             Street First Name        Surname Age  \\\n",
       "6429            30  St.Matthew Avenue    Marilyn         Hughes  21   \n",
       "6430            30  St.Matthew Avenue     Samuel         Hughes  26   \n",
       "6431            30  St.Matthew Avenue   Charlene  Wilson-Hughes   2   \n",
       "6432            30  St.Matthew Avenue    Matthew  Wilson-Hughes  -1   \n",
       "6433            30  St.Matthew Avenue     Declan         Wallis  63   \n",
       "6434            30  St.Matthew Avenue     Jordan         Dawson  32   \n",
       "\n",
       "     Relationship to Head of House Marital Status Gender  \\\n",
       "6429                          Head        Married      F   \n",
       "6430                       Husband        Married      M   \n",
       "6431                      Daughter            NaN      F   \n",
       "6432                           Son            NaN      M   \n",
       "6433                        Lodger       Divorced      M   \n",
       "6434                        Lodger         Single      M   \n",
       "\n",
       "                        Occupation Infirmity  Religion                Address  \\\n",
       "6429            University Student      None      None  30, St.Matthew Avenue   \n",
       "6430         Agricultural engineer      None      None  30, St.Matthew Avenue   \n",
       "6431                         Child      None       NaN  30, St.Matthew Avenue   \n",
       "6432                         Child      None       NaN  30, St.Matthew Avenue   \n",
       "6433  Research scientist (medical)      None  Catholic  30, St.Matthew Avenue   \n",
       "6434         Exercise physiologist      None    Muslim  30, St.Matthew Avenue   \n",
       "\n",
       "      Retired  Employed  Is Student  \n",
       "6429        0         0           1  \n",
       "6430        0         1           0  \n",
       "6431        0         0           0  \n",
       "6432        0         0           0  \n",
       "6433        0         1           0  \n",
       "6434        0         1           0  "
      ]
     },
     "execution_count": 35,
     "metadata": {},
     "output_type": "execute_result"
    }
   ],
   "source": [
    "# look at members of his household\n",
    "census_df.loc[census_df['Address'] == neg_age['Address'].values[0]]"
   ]
  },
  {
   "cell_type": "markdown",
   "id": "c1e02a4f",
   "metadata": {},
   "source": [
    "NOTE:<br>\n",
    "There are 6 occupants residing at 30, St. Matthew Avenue. However, looking at their surnames gives it away. <br>\n",
    "The Hughes household consists of 4 occupants, with the parents (Husband & Wife) being in their twenties. <br>It is important to note that the wife's age is 21, which means the youngest she could have gotten married is at age 18 (3 years prior). <br>\n",
    "Hence, it seems reasonable to assume that Charlene Wilson-Hughes is their oldest child and Matthew Wilson-Hughes would be the younger child.<br>\n",
    "***Therefore, it is likely that -1 was mistakenly written instead of age 1.<br>\n",
    "Hence, I shall now proceed to correct this mistake by changing Matthew Wilson-Hughes' age from -1 to 1***<br><br>"
   ]
  },
  {
   "cell_type": "code",
   "execution_count": 36,
   "id": "acee0c3c",
   "metadata": {},
   "outputs": [],
   "source": [
    "age.loc[neg_age.index] = 1"
   ]
  },
  {
   "cell_type": "code",
   "execution_count": 37,
   "id": "664b2ca0",
   "metadata": {},
   "outputs": [
    {
     "name": "stdout",
     "output_type": "stream",
     "text": [
      "[ 43  44   5  25  24   3 105  73  19  10  57  30   2  88  85  52  56  28\n",
      "  47  20  75  59  42  61  67  66  76  77  50  26  27  55  53  29  11  22\n",
      "  64  68  38  34  32  37  13  69  81  60  72  31  54  83  41  39  33   4\n",
      "  48  62  70  46  16  84  65  15  21  40  14  12  23  74   7  51  92   6\n",
      "  45  63  18  36  17   9  71  49   0  80  89  91  35   1  58   8  82  79\n",
      "  98 100  78  94 104  96  86  87 103  93 119  90 106 131 107  99  97  95]\n"
     ]
    }
   ],
   "source": [
    "print(age.unique())"
   ]
  },
  {
   "cell_type": "markdown",
   "id": "116d14ce",
   "metadata": {},
   "source": [
    "#### Fix error of being older than 122 years old"
   ]
  },
  {
   "cell_type": "markdown",
   "id": "60f0d9bb",
   "metadata": {},
   "source": [
    "Take a look at those older than the oldest person ever - 122 years"
   ]
  },
  {
   "cell_type": "code",
   "execution_count": 38,
   "id": "106be8af",
   "metadata": {},
   "outputs": [
    {
     "data": {
      "text/html": [
       "<div>\n",
       "<style scoped>\n",
       "    .dataframe tbody tr th:only-of-type {\n",
       "        vertical-align: middle;\n",
       "    }\n",
       "\n",
       "    .dataframe tbody tr th {\n",
       "        vertical-align: top;\n",
       "    }\n",
       "\n",
       "    .dataframe thead th {\n",
       "        text-align: right;\n",
       "    }\n",
       "</style>\n",
       "<table border=\"1\" class=\"dataframe\">\n",
       "  <thead>\n",
       "    <tr style=\"text-align: right;\">\n",
       "      <th></th>\n",
       "      <th>House Number</th>\n",
       "      <th>Street</th>\n",
       "      <th>First Name</th>\n",
       "      <th>Surname</th>\n",
       "      <th>Age</th>\n",
       "      <th>Relationship to Head of House</th>\n",
       "      <th>Marital Status</th>\n",
       "      <th>Gender</th>\n",
       "      <th>Occupation</th>\n",
       "      <th>Infirmity</th>\n",
       "      <th>Religion</th>\n",
       "      <th>Address</th>\n",
       "      <th>Retired</th>\n",
       "      <th>Employed</th>\n",
       "      <th>Is Student</th>\n",
       "    </tr>\n",
       "  </thead>\n",
       "  <tbody>\n",
       "    <tr>\n",
       "      <th>3990</th>\n",
       "      <td>8</td>\n",
       "      <td>Cancerpath Drive</td>\n",
       "      <td>Josephine</td>\n",
       "      <td>Holmes</td>\n",
       "      <td>131</td>\n",
       "      <td>Head</td>\n",
       "      <td>Married</td>\n",
       "      <td>F</td>\n",
       "      <td>Retired Clinical psychologist</td>\n",
       "      <td>None</td>\n",
       "      <td>Christian</td>\n",
       "      <td>8, Cancerpath Drive</td>\n",
       "      <td>1</td>\n",
       "      <td>1</td>\n",
       "      <td>0</td>\n",
       "    </tr>\n",
       "  </tbody>\n",
       "</table>\n",
       "</div>"
      ],
      "text/plain": [
       "      House Number            Street First Name Surname  Age  \\\n",
       "3990             8  Cancerpath Drive  Josephine  Holmes  131   \n",
       "\n",
       "     Relationship to Head of House Marital Status Gender  \\\n",
       "3990                          Head        Married      F   \n",
       "\n",
       "                         Occupation Infirmity   Religion              Address  \\\n",
       "3990  Retired Clinical psychologist      None  Christian  8, Cancerpath Drive   \n",
       "\n",
       "      Retired  Employed  Is Student  \n",
       "3990        1         1           0  "
      ]
     },
     "execution_count": 38,
     "metadata": {},
     "output_type": "execute_result"
    }
   ],
   "source": [
    "older_than_oldest = census_df.loc[age.loc[age > 122].index]\n",
    "older_than_oldest"
   ]
  },
  {
   "cell_type": "code",
   "execution_count": 39,
   "id": "3d1844da",
   "metadata": {},
   "outputs": [
    {
     "data": {
      "text/html": [
       "<div>\n",
       "<style scoped>\n",
       "    .dataframe tbody tr th:only-of-type {\n",
       "        vertical-align: middle;\n",
       "    }\n",
       "\n",
       "    .dataframe tbody tr th {\n",
       "        vertical-align: top;\n",
       "    }\n",
       "\n",
       "    .dataframe thead th {\n",
       "        text-align: right;\n",
       "    }\n",
       "</style>\n",
       "<table border=\"1\" class=\"dataframe\">\n",
       "  <thead>\n",
       "    <tr style=\"text-align: right;\">\n",
       "      <th></th>\n",
       "      <th>House Number</th>\n",
       "      <th>Street</th>\n",
       "      <th>First Name</th>\n",
       "      <th>Surname</th>\n",
       "      <th>Age</th>\n",
       "      <th>Relationship to Head of House</th>\n",
       "      <th>Marital Status</th>\n",
       "      <th>Gender</th>\n",
       "      <th>Occupation</th>\n",
       "      <th>Infirmity</th>\n",
       "      <th>Religion</th>\n",
       "      <th>Address</th>\n",
       "      <th>Retired</th>\n",
       "      <th>Employed</th>\n",
       "      <th>Is Student</th>\n",
       "    </tr>\n",
       "  </thead>\n",
       "  <tbody>\n",
       "    <tr>\n",
       "      <th>3990</th>\n",
       "      <td>8</td>\n",
       "      <td>Cancerpath Drive</td>\n",
       "      <td>Josephine</td>\n",
       "      <td>Holmes</td>\n",
       "      <td>131</td>\n",
       "      <td>Head</td>\n",
       "      <td>Married</td>\n",
       "      <td>F</td>\n",
       "      <td>Retired Clinical psychologist</td>\n",
       "      <td>None</td>\n",
       "      <td>Christian</td>\n",
       "      <td>8, Cancerpath Drive</td>\n",
       "      <td>1</td>\n",
       "      <td>1</td>\n",
       "      <td>0</td>\n",
       "    </tr>\n",
       "    <tr>\n",
       "      <th>3991</th>\n",
       "      <td>8</td>\n",
       "      <td>Cancerpath Drive</td>\n",
       "      <td>Stewart</td>\n",
       "      <td>Holmes</td>\n",
       "      <td>107</td>\n",
       "      <td>Husband</td>\n",
       "      <td>Married</td>\n",
       "      <td>M</td>\n",
       "      <td>Retired Rural practice surveyor</td>\n",
       "      <td>None</td>\n",
       "      <td>Christian</td>\n",
       "      <td>8, Cancerpath Drive</td>\n",
       "      <td>1</td>\n",
       "      <td>1</td>\n",
       "      <td>0</td>\n",
       "    </tr>\n",
       "  </tbody>\n",
       "</table>\n",
       "</div>"
      ],
      "text/plain": [
       "      House Number            Street First Name Surname  Age  \\\n",
       "3990             8  Cancerpath Drive  Josephine  Holmes  131   \n",
       "3991             8  Cancerpath Drive    Stewart  Holmes  107   \n",
       "\n",
       "     Relationship to Head of House Marital Status Gender  \\\n",
       "3990                          Head        Married      F   \n",
       "3991                       Husband        Married      M   \n",
       "\n",
       "                           Occupation Infirmity   Religion  \\\n",
       "3990    Retired Clinical psychologist      None  Christian   \n",
       "3991  Retired Rural practice surveyor      None  Christian   \n",
       "\n",
       "                  Address  Retired  Employed  Is Student  \n",
       "3990  8, Cancerpath Drive        1         1           0  \n",
       "3991  8, Cancerpath Drive        1         1           0  "
      ]
     },
     "execution_count": 39,
     "metadata": {},
     "output_type": "execute_result"
    }
   ],
   "source": [
    "# Take a look at Josephine Holmes' household\n",
    "census_df.loc[census_df['Address'] == older_than_oldest['Address'].values[0]]"
   ]
  },
  {
   "cell_type": "markdown",
   "id": "3aa483d6",
   "metadata": {},
   "source": [
    "**NOTE:**<br>\n",
    "Knowing that Josephine is married to Stewart Holmes, who is 107 years old and still living, it is reasonable to expect that her own age shouldn't be very far from that of her husband's.<br>\n",
    "This error could be because she can no longer correctly recall her age - due to old age.<br>\n",
    "However, in marriages, it is quite common to see an older husband/younger wife combination.<br>\n",
    "Therefore, I shall assign Josephine Holmes an age that is 5 years below that of Stewart Holmes."
   ]
  },
  {
   "cell_type": "code",
   "execution_count": 40,
   "id": "31fd3dde",
   "metadata": {},
   "outputs": [],
   "source": [
    "# make Josephine Holmes 5 years younger than Stewart Holmes (her husband)\n",
    "age.loc[older_than_oldest.index] = age.loc[census_df.loc[(census_df['Surname'] == 'Holmes') &\n",
    "                                                         (census_df['First Name'] == 'Stewart')].index].apply(lambda val: int(val) - 5).values[0]"
   ]
  },
  {
   "cell_type": "code",
   "execution_count": 41,
   "id": "2bd07a86",
   "metadata": {},
   "outputs": [
    {
     "data": {
      "text/plain": [
       "3990    102\n",
       "Name: Age, dtype: int64"
      ]
     },
     "execution_count": 41,
     "metadata": {},
     "output_type": "execute_result"
    }
   ],
   "source": [
    "age.loc[older_than_oldest.index]"
   ]
  },
  {
   "cell_type": "code",
   "execution_count": 42,
   "id": "8c22bad3",
   "metadata": {},
   "outputs": [
    {
     "name": "stdout",
     "output_type": "stream",
     "text": [
      "[ 43  44   5  25  24   3 105  73  19  10  57  30   2  88  85  52  56  28\n",
      "  47  20  75  59  42  61  67  66  76  77  50  26  27  55  53  29  11  22\n",
      "  64  68  38  34  32  37  13  69  81  60  72  31  54  83  41  39  33   4\n",
      "  48  62  70  46  16  84  65  15  21  40  14  12  23  74   7  51  92   6\n",
      "  45  63  18  36  17   9  71  49   0  80  89  91  35   1  58   8  82  79\n",
      "  98 100  78  94 104  96  86  87 103  93 119  90 106 102 107  99  97  95]\n"
     ]
    }
   ],
   "source": [
    "print(age.unique())"
   ]
  },
  {
   "cell_type": "markdown",
   "id": "992fa03d",
   "metadata": {},
   "source": [
    "#### Replace the old \"Age\" column in the original census_df dataframe with cleaned series, \"age\"."
   ]
  },
  {
   "cell_type": "code",
   "execution_count": 43,
   "id": "79438a85",
   "metadata": {},
   "outputs": [],
   "source": [
    "census_df['Age'] = age"
   ]
  },
  {
   "cell_type": "code",
   "execution_count": 44,
   "id": "c39beeb5",
   "metadata": {},
   "outputs": [
    {
     "data": {
      "text/plain": [
       "dtype('int64')"
      ]
     },
     "execution_count": 44,
     "metadata": {},
     "output_type": "execute_result"
    }
   ],
   "source": [
    "census_df['Age'].dtypes"
   ]
  },
  {
   "cell_type": "markdown",
   "id": "8a6f344a",
   "metadata": {},
   "source": [
    "___"
   ]
  },
  {
   "cell_type": "code",
   "execution_count": 45,
   "id": "16c065ec",
   "metadata": {},
   "outputs": [],
   "source": [
    "retired_ages = census_df.loc[census_df['Retired'] == 1, 'Age']"
   ]
  },
  {
   "cell_type": "code",
   "execution_count": 46,
   "id": "2c350e85",
   "metadata": {
    "scrolled": true
   },
   "outputs": [
    {
     "data": {
      "text/plain": [
       "68     52\n",
       "69     45\n",
       "70     53\n",
       "71     42\n",
       "72     52\n",
       "73     54\n",
       "74     43\n",
       "75     42\n",
       "76     33\n",
       "77     37\n",
       "78     29\n",
       "79     26\n",
       "80     28\n",
       "81     24\n",
       "82     27\n",
       "83     33\n",
       "84     34\n",
       "85     18\n",
       "86     16\n",
       "87      9\n",
       "88     16\n",
       "89     14\n",
       "90      6\n",
       "91      4\n",
       "92      4\n",
       "93      5\n",
       "94      4\n",
       "95      1\n",
       "96      2\n",
       "97      2\n",
       "98      2\n",
       "99      1\n",
       "100     1\n",
       "102     1\n",
       "103     1\n",
       "104     2\n",
       "105     1\n",
       "106     1\n",
       "107     1\n",
       "119     2\n",
       "Name: Age, dtype: int64"
      ]
     },
     "execution_count": 46,
     "metadata": {},
     "output_type": "execute_result"
    }
   ],
   "source": [
    "retired_age_freq = retired_ages.value_counts().sort_index()\n",
    "retired_age_freq"
   ]
  },
  {
   "cell_type": "code",
   "execution_count": 47,
   "id": "1c0657af",
   "metadata": {},
   "outputs": [
    {
     "data": {
      "image/png": "[encoded data removed]",
      "text/plain": [
       "<Figure size 900x450 with 1 Axes>"
      ]
     },
     "metadata": {
      "needs_background": "light"
     },
     "output_type": "display_data"
    }
   ],
   "source": [
    "retired_age_freq_fig = sns.categorical.plt.figure(figsize=(6, 3), dpi=150)\n",
    "retired_plotted = sns.barplot(x=retired_age_freq.index, y=retired_age_freq)\n",
    "retired_plotted.set_xticklabels(labels=retired_age_freq.index, fontsize=5, rotation=45)\n",
    "retired_plotted.set_ylabel(None), retired_plotted.set_xlabel('Age')\n",
    "retired_plotted.set_title(\"Age Distribution of Retired Residents\");"
   ]
  },
  {
   "cell_type": "code",
   "execution_count": 48,
   "id": "e4796e24",
   "metadata": {},
   "outputs": [
    {
     "data": {
      "text/plain": [
       "'age_distrib_of_retired.png'"
      ]
     },
     "execution_count": 48,
     "metadata": {},
     "output_type": "execute_result"
    }
   ],
   "source": [
    "fname='age_distrib_of_retired.png'\n",
    "cd.fig_writer(fname, retired_age_freq_fig)"
   ]
  },
  {
   "cell_type": "markdown",
   "id": "0bf85b62",
   "metadata": {},
   "source": [
    "___"
   ]
  },
  {
   "cell_type": "code",
   "execution_count": 49,
   "id": "fc5d988b",
   "metadata": {},
   "outputs": [
    {
     "data": {
      "text/plain": [
       "0       (40, 68]\n",
       "1       (40, 68]\n",
       "2        (0, 18]\n",
       "3        (0, 18]\n",
       "4       (18, 25]\n",
       "          ...   \n",
       "7576    (25, 40]\n",
       "7577     (0, 18]\n",
       "7578     (0, 18]\n",
       "7579     (0, 18]\n",
       "7580     (0, 18]\n",
       "Name: Age, Length: 7581, dtype: category\n",
       "Categories (5, interval[int64, right]): [(0, 18] < (18, 25] < (25, 40] < (40, 68] < (68, 122]]"
      ]
     },
     "execution_count": 49,
     "metadata": {},
     "output_type": "execute_result"
    }
   ],
   "source": [
    "age_binned = sns.categorical.pd.cut(age, [0, 18, 25, 40, 68, 122])\n",
    "age_binned"
   ]
  },
  {
   "cell_type": "code",
   "execution_count": 50,
   "id": "68de4e64",
   "metadata": {
    "scrolled": true
   },
   "outputs": [
    {
     "data": {
      "image/png": "[encoded data removed]",
      "text/plain": [
       "<Figure size 432x288 with 1 Axes>"
      ]
     },
     "metadata": {
      "needs_background": "light"
     },
     "output_type": "display_data"
    }
   ],
   "source": [
    "hplot = sns.histplot(data=census_df, x='Age', bins=[0, 18, 25, 40, 68, 122])\n",
    "# hplot.get_\n",
    "sns.categorical.plt.show()"
   ]
  },
  {
   "cell_type": "markdown",
   "id": "8bb9ab6a",
   "metadata": {},
   "source": [
    "___"
   ]
  },
  {
   "cell_type": "code",
   "execution_count": 51,
   "id": "ea5d00ef",
   "metadata": {},
   "outputs": [
    {
     "name": "stdout",
     "output_type": "stream",
     "text": [
      "<class 'pandas.core.frame.DataFrame'>\n",
      "RangeIndex: 7581 entries, 0 to 7580\n",
      "Data columns (total 15 columns):\n",
      " #   Column                         Non-Null Count  Dtype \n",
      "---  ------                         --------------  ----- \n",
      " 0   House Number                   7581 non-null   int64 \n",
      " 1   Street                         7581 non-null   object\n",
      " 2   First Name                     7581 non-null   object\n",
      " 3   Surname                        7581 non-null   object\n",
      " 4   Age                            7581 non-null   int64 \n",
      " 5   Relationship to Head of House  7581 non-null   object\n",
      " 6   Marital Status                 5904 non-null   object\n",
      " 7   Gender                         7581 non-null   object\n",
      " 8   Occupation                     7581 non-null   object\n",
      " 9   Infirmity                      7581 non-null   object\n",
      " 10  Religion                       5864 non-null   object\n",
      " 11  Address                        7581 non-null   object\n",
      " 12  Retired                        7581 non-null   int64 \n",
      " 13  Employed                       7581 non-null   int64 \n",
      " 14  Is Student                     7581 non-null   int64 \n",
      "dtypes: int64(5), object(10)\n",
      "memory usage: 888.5+ KB\n"
     ]
    }
   ],
   "source": [
    "census_df.info()"
   ]
  },
  {
   "cell_type": "code",
   "execution_count": 52,
   "id": "38fdad66",
   "metadata": {},
   "outputs": [
    {
     "data": {
      "text/html": [
       "<div>\n",
       "<style scoped>\n",
       "    .dataframe tbody tr th:only-of-type {\n",
       "        vertical-align: middle;\n",
       "    }\n",
       "\n",
       "    .dataframe tbody tr th {\n",
       "        vertical-align: top;\n",
       "    }\n",
       "\n",
       "    .dataframe thead th {\n",
       "        text-align: right;\n",
       "    }\n",
       "</style>\n",
       "<table border=\"1\" class=\"dataframe\">\n",
       "  <thead>\n",
       "    <tr style=\"text-align: right;\">\n",
       "      <th></th>\n",
       "      <th>House Number</th>\n",
       "      <th>Street</th>\n",
       "      <th>First Name</th>\n",
       "      <th>Surname</th>\n",
       "      <th>Age</th>\n",
       "      <th>Relationship to Head of House</th>\n",
       "      <th>Marital Status</th>\n",
       "      <th>Gender</th>\n",
       "      <th>Occupation</th>\n",
       "      <th>Infirmity</th>\n",
       "      <th>Religion</th>\n",
       "      <th>Address</th>\n",
       "      <th>Retired</th>\n",
       "      <th>Employed</th>\n",
       "      <th>Is Student</th>\n",
       "    </tr>\n",
       "  </thead>\n",
       "  <tbody>\n",
       "    <tr>\n",
       "      <th>0</th>\n",
       "      <td>1</td>\n",
       "      <td>Simmons Meadow</td>\n",
       "      <td>Andrea</td>\n",
       "      <td>Bradley</td>\n",
       "      <td>43</td>\n",
       "      <td>Head</td>\n",
       "      <td>Married</td>\n",
       "      <td>F</td>\n",
       "      <td>Prison officer</td>\n",
       "      <td>None</td>\n",
       "      <td>None</td>\n",
       "      <td>1, Simmons Meadow</td>\n",
       "      <td>0</td>\n",
       "      <td>1</td>\n",
       "      <td>0</td>\n",
       "    </tr>\n",
       "    <tr>\n",
       "      <th>1</th>\n",
       "      <td>1</td>\n",
       "      <td>Simmons Meadow</td>\n",
       "      <td>Peter</td>\n",
       "      <td>Bradley</td>\n",
       "      <td>44</td>\n",
       "      <td>Husband</td>\n",
       "      <td>Married</td>\n",
       "      <td>M</td>\n",
       "      <td>Futures trader</td>\n",
       "      <td>None</td>\n",
       "      <td>None</td>\n",
       "      <td>1, Simmons Meadow</td>\n",
       "      <td>0</td>\n",
       "      <td>1</td>\n",
       "      <td>0</td>\n",
       "    </tr>\n",
       "    <tr>\n",
       "      <th>2</th>\n",
       "      <td>1</td>\n",
       "      <td>Simmons Meadow</td>\n",
       "      <td>Lauren</td>\n",
       "      <td>Bradley</td>\n",
       "      <td>5</td>\n",
       "      <td>Daughter</td>\n",
       "      <td>NaN</td>\n",
       "      <td>F</td>\n",
       "      <td>Student</td>\n",
       "      <td>None</td>\n",
       "      <td>NaN</td>\n",
       "      <td>1, Simmons Meadow</td>\n",
       "      <td>0</td>\n",
       "      <td>0</td>\n",
       "      <td>1</td>\n",
       "    </tr>\n",
       "    <tr>\n",
       "      <th>3</th>\n",
       "      <td>1</td>\n",
       "      <td>Simmons Meadow</td>\n",
       "      <td>Henry</td>\n",
       "      <td>Bradley</td>\n",
       "      <td>5</td>\n",
       "      <td>Son</td>\n",
       "      <td>NaN</td>\n",
       "      <td>M</td>\n",
       "      <td>Student</td>\n",
       "      <td>None</td>\n",
       "      <td>NaN</td>\n",
       "      <td>1, Simmons Meadow</td>\n",
       "      <td>0</td>\n",
       "      <td>0</td>\n",
       "      <td>1</td>\n",
       "    </tr>\n",
       "    <tr>\n",
       "      <th>4</th>\n",
       "      <td>1</td>\n",
       "      <td>Simmons Meadow</td>\n",
       "      <td>Edward</td>\n",
       "      <td>Slater</td>\n",
       "      <td>25</td>\n",
       "      <td>Lodger</td>\n",
       "      <td>Divorced</td>\n",
       "      <td>M</td>\n",
       "      <td>Further education lecturer</td>\n",
       "      <td>None</td>\n",
       "      <td>None</td>\n",
       "      <td>1, Simmons Meadow</td>\n",
       "      <td>0</td>\n",
       "      <td>1</td>\n",
       "      <td>0</td>\n",
       "    </tr>\n",
       "  </tbody>\n",
       "</table>\n",
       "</div>"
      ],
      "text/plain": [
       "   House Number          Street First Name  Surname  Age  \\\n",
       "0             1  Simmons Meadow     Andrea  Bradley   43   \n",
       "1             1  Simmons Meadow      Peter  Bradley   44   \n",
       "2             1  Simmons Meadow     Lauren  Bradley    5   \n",
       "3             1  Simmons Meadow      Henry  Bradley    5   \n",
       "4             1  Simmons Meadow     Edward   Slater   25   \n",
       "\n",
       "  Relationship to Head of House Marital Status Gender  \\\n",
       "0                          Head        Married      F   \n",
       "1                       Husband        Married      M   \n",
       "2                      Daughter            NaN      F   \n",
       "3                           Son            NaN      M   \n",
       "4                        Lodger       Divorced      M   \n",
       "\n",
       "                   Occupation Infirmity Religion            Address  Retired  \\\n",
       "0              Prison officer      None     None  1, Simmons Meadow        0   \n",
       "1              Futures trader      None     None  1, Simmons Meadow        0   \n",
       "2                     Student      None      NaN  1, Simmons Meadow        0   \n",
       "3                     Student      None      NaN  1, Simmons Meadow        0   \n",
       "4  Further education lecturer      None     None  1, Simmons Meadow        0   \n",
       "\n",
       "   Employed  Is Student  \n",
       "0         1           0  \n",
       "1         1           0  \n",
       "2         0           1  \n",
       "3         0           1  \n",
       "4         1           0  "
      ]
     },
     "execution_count": 52,
     "metadata": {},
     "output_type": "execute_result"
    }
   ],
   "source": [
    "census_df.head()"
   ]
  },
  {
   "cell_type": "markdown",
   "id": "c16173e1",
   "metadata": {},
   "source": [
    "#### Save dataframe changes to filesystem as csv file"
   ]
  },
  {
   "cell_type": "code",
   "execution_count": 53,
   "id": "e2c79e2b",
   "metadata": {},
   "outputs": [],
   "source": [
    "fname = \"Infirmity_and_Age_cleaned.csv\"\n",
    "census_df.to_csv(fname, index=False)"
   ]
  },
  {
   "cell_type": "markdown",
   "id": "1933cc14",
   "metadata": {},
   "source": [
    "___"
   ]
  },
  {
   "cell_type": "markdown",
   "id": "9a3ca943",
   "metadata": {},
   "source": [
    "**<center> THE END</center>**"
   ]
  },
  {
   "cell_type": "markdown",
   "id": "c5cb8514",
   "metadata": {},
   "source": [
    "___"
   ]
  }
 ],
 "metadata": {
  "kernelspec": {
   "display_name": "Python 3 (ipykernel)",
   "language": "python",
   "name": "python3"
  },
  "language_info": {
   "codemirror_mode": {
    "name": "ipython",
    "version": 3
   },
   "file_extension": ".py",
   "mimetype": "text/x-python",
   "name": "python",
   "nbconvert_exporter": "python",
   "pygments_lexer": "ipython3",
   "version": "3.9.7"
  }
 },
 "nbformat": 4,
 "nbformat_minor": 5
}
