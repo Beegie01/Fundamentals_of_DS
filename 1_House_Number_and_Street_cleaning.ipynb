{
 "cells": [
  {
   "cell_type": "code",
   "execution_count": 1,
   "id": "881afac0",
   "metadata": {},
   "outputs": [],
   "source": [
    "import os\n",
    "import seaborn as sns\n",
    "import copy"
   ]
  },
  {
   "cell_type": "code",
   "execution_count": 2,
   "id": "0e7b9162",
   "metadata": {},
   "outputs": [],
   "source": [
    "# Add current working directory to Python's sys path if not included\n",
    "imp_mods = os.sys.path\n",
    "my_pkg = os.getcwd()\n",
    "\n",
    "if my_pkg not in imp_mods:\n",
    "    imp_mods.append(my_pkg)\n",
    "    print('Package imported.')"
   ]
  },
  {
   "cell_type": "code",
   "execution_count": 3,
   "id": "439e2419",
   "metadata": {},
   "outputs": [],
   "source": [
    "# import class CensusDataset from a customized module census_methods\n",
    "from census_methods import CensusDataset as cd"
   ]
  },
  {
   "cell_type": "code",
   "execution_count": 4,
   "id": "7217bcfc",
   "metadata": {},
   "outputs": [],
   "source": [
    "# read-in data from csv file\n",
    "census_df = sns.categorical.pd.read_csv('census_16_new - Copy.csv')"
   ]
  },
  {
   "cell_type": "code",
   "execution_count": 5,
   "id": "e08ebe4f",
   "metadata": {},
   "outputs": [
    {
     "name": "stdout",
     "output_type": "stream",
     "text": [
      "<class 'pandas.core.frame.DataFrame'>\n",
      "RangeIndex: 7581 entries, 0 to 7580\n",
      "Data columns (total 11 columns):\n",
      " #   Column                         Non-Null Count  Dtype \n",
      "---  ------                         --------------  ----- \n",
      " 0   House Number                   7579 non-null   object\n",
      " 1   Street                         7581 non-null   object\n",
      " 2   First Name                     7579 non-null   object\n",
      " 3   Surname                        7581 non-null   object\n",
      " 4   Age                            7581 non-null   object\n",
      " 5   Relationship to Head of House  7581 non-null   object\n",
      " 6   Marital Status                 5904 non-null   object\n",
      " 7   Gender                         7581 non-null   object\n",
      " 8   Occupation                     7581 non-null   object\n",
      " 9   Infirmity                      7581 non-null   object\n",
      " 10  Religion                       5864 non-null   object\n",
      "dtypes: object(11)\n",
      "memory usage: 651.6+ KB\n"
     ]
    }
   ],
   "source": [
    "census_df.info()"
   ]
  },
  {
   "cell_type": "markdown",
   "id": "f7f5d4a5",
   "metadata": {},
   "source": [
    "___"
   ]
  },
  {
   "cell_type": "markdown",
   "id": "216b1b72",
   "metadata": {},
   "source": [
    "### House Number"
   ]
  },
  {
   "cell_type": "code",
   "execution_count": 6,
   "id": "ca6282d3",
   "metadata": {},
   "outputs": [],
   "source": [
    "# create a copy of house number series to avoid making\n",
    "# unwanted changes to the main dataframe\n",
    "house_num = copy.deepcopy(census_df['House Number'])"
   ]
  },
  {
   "cell_type": "code",
   "execution_count": 7,
   "id": "e77505ab",
   "metadata": {},
   "outputs": [
    {
     "data": {
      "text/plain": [
       "False"
      ]
     },
     "execution_count": 7,
     "metadata": {},
     "output_type": "execute_result"
    }
   ],
   "source": [
    "# check for empty string\n",
    "cd.check_for_empty_str(census_df)['House Number']"
   ]
  },
  {
   "cell_type": "markdown",
   "id": "eee8fd86",
   "metadata": {},
   "source": [
    "**NOTE:**<br>\n",
    "No blanks in the House Number column<br><br>"
   ]
  },
  {
   "cell_type": "code",
   "execution_count": 8,
   "id": "dc97cdd8",
   "metadata": {},
   "outputs": [
    {
     "data": {
      "text/plain": [
       "2"
      ]
     },
     "execution_count": 8,
     "metadata": {},
     "output_type": "execute_result"
    }
   ],
   "source": [
    "# check for nan values\n",
    "cd.null_checker(house_num)"
   ]
  },
  {
   "cell_type": "markdown",
   "id": "be803b54",
   "metadata": {},
   "source": [
    "**NOTE:**<br>\n",
    "There are two nan values in the House Number column<br><br>"
   ]
  },
  {
   "cell_type": "code",
   "execution_count": 9,
   "id": "5c7427cd",
   "metadata": {},
   "outputs": [
    {
     "name": "stdout",
     "output_type": "stream",
     "text": [
      "['1' '2' '3' '4' '5' '6' '7' '8' '9' '10' '11' '12' '13' '14' '15' '16'\n",
      " '17' '18' '19' '20' '21' '22' '23' '24' '25' '26' '27' '28' '29' '30'\n",
      " '31' '32' '33' '34' '35' '36' '37' '38' '39' '40' '41' '42' '43' '44'\n",
      " '45' '46' '47' '48' '49' '50' '51' '52' '53' '54' '55' '56' '57' '58'\n",
      " '59' '60' '61' '62' '63' '64' '65' '66' '67' '68' '69' '70' '71' '72'\n",
      " '73' '74' '75' '76' '77' '78' '79' '80' '81' '82' '83' '84' '85' '86'\n",
      " '87' '88' '89' '90' '91' '92' '93' '94' '95' '96' '97' '98' '99' '100'\n",
      " '101' '102' '103' '104' '105' '106' '107' '108' '109' '110' '111' '112'\n",
      " '113' '114' '115' '116' '117' '118' '119' '120' '121' '122' '123' '124'\n",
      " '125' '126' '127' '128' '129' '130' '131' '132' '133' '134' '135' '136'\n",
      " '137' '138' '139' '140' '141' '142' '143' '144' '145' '146' '147' '148'\n",
      " '149' '150' 'Two' 'One' nan]\n"
     ]
    }
   ],
   "source": [
    "# unique values per column\n",
    "print(house_num.unique())"
   ]
  },
  {
   "cell_type": "markdown",
   "id": "917f0d84",
   "metadata": {},
   "source": [
    "<br><br>Before we can change the datatype of house number to int, we must first make sure that all of its values are convertible to integers"
   ]
  },
  {
   "cell_type": "markdown",
   "id": "75fcb2b5",
   "metadata": {},
   "source": [
    "#### Change spellings to numbers"
   ]
  },
  {
   "cell_type": "code",
   "execution_count": 10,
   "id": "9bdebf5d",
   "metadata": {},
   "outputs": [],
   "source": [
    "converter = {'One': 1, 'Two': 2, 'Three': 3, 'Four': 4, 'Five': 5}\n",
    "house_num = cd.transform_val(house_num, converter)"
   ]
  },
  {
   "cell_type": "code",
   "execution_count": 11,
   "id": "10a3dff8",
   "metadata": {},
   "outputs": [
    {
     "data": {
      "text/html": [
       "<div>\n",
       "<style scoped>\n",
       "    .dataframe tbody tr th:only-of-type {\n",
       "        vertical-align: middle;\n",
       "    }\n",
       "\n",
       "    .dataframe tbody tr th {\n",
       "        vertical-align: top;\n",
       "    }\n",
       "\n",
       "    .dataframe thead th {\n",
       "        text-align: right;\n",
       "    }\n",
       "</style>\n",
       "<table border=\"1\" class=\"dataframe\">\n",
       "  <thead>\n",
       "    <tr style=\"text-align: right;\">\n",
       "      <th></th>\n",
       "      <th>House Number</th>\n",
       "      <th>Street</th>\n",
       "      <th>First Name</th>\n",
       "      <th>Surname</th>\n",
       "      <th>Age</th>\n",
       "      <th>Relationship to Head of House</th>\n",
       "      <th>Marital Status</th>\n",
       "      <th>Gender</th>\n",
       "      <th>Occupation</th>\n",
       "      <th>Infirmity</th>\n",
       "      <th>Religion</th>\n",
       "    </tr>\n",
       "  </thead>\n",
       "  <tbody>\n",
       "    <tr>\n",
       "      <th>7366</th>\n",
       "      <td>NaN</td>\n",
       "      <td>Chester Lane</td>\n",
       "      <td>Dominic</td>\n",
       "      <td>Murphy</td>\n",
       "      <td>10</td>\n",
       "      <td>Son</td>\n",
       "      <td>NaN</td>\n",
       "      <td>Male</td>\n",
       "      <td>Student</td>\n",
       "      <td>None</td>\n",
       "      <td>NaN</td>\n",
       "    </tr>\n",
       "    <tr>\n",
       "      <th>7445</th>\n",
       "      <td>NaN</td>\n",
       "      <td>Chester Lane</td>\n",
       "      <td>Charlene</td>\n",
       "      <td>Bibi</td>\n",
       "      <td>61</td>\n",
       "      <td>Head</td>\n",
       "      <td>Married</td>\n",
       "      <td>Female</td>\n",
       "      <td>Planning and development surveyor</td>\n",
       "      <td>None</td>\n",
       "      <td>None</td>\n",
       "    </tr>\n",
       "  </tbody>\n",
       "</table>\n",
       "</div>"
      ],
      "text/plain": [
       "     House Number        Street First Name Surname Age  \\\n",
       "7366          NaN  Chester Lane    Dominic  Murphy  10   \n",
       "7445          NaN  Chester Lane   Charlene    Bibi  61   \n",
       "\n",
       "     Relationship to Head of House Marital Status  Gender  \\\n",
       "7366                           Son            NaN    Male   \n",
       "7445                          Head        Married  Female   \n",
       "\n",
       "                             Occupation Infirmity Religion  \n",
       "7366                            Student      None      NaN  \n",
       "7445  Planning and development surveyor      None     None  "
      ]
     },
     "execution_count": 11,
     "metadata": {},
     "output_type": "execute_result"
    }
   ],
   "source": [
    "# look at owners of missing house numbers\n",
    "null_house_num = census_df.loc[house_num.isnull()]\n",
    "null_house_num"
   ]
  },
  {
   "cell_type": "markdown",
   "id": "a368e707",
   "metadata": {},
   "source": [
    "<br><br>The two people with missing house numbers seem to live on the same street. While one is the head, the other is a son.<br>\n",
    "Let's check for other occupants of the same house holds using Street and Surname"
   ]
  },
  {
   "cell_type": "code",
   "execution_count": 12,
   "id": "1702b00e",
   "metadata": {},
   "outputs": [
    {
     "data": {
      "text/html": [
       "<div>\n",
       "<style scoped>\n",
       "    .dataframe tbody tr th:only-of-type {\n",
       "        vertical-align: middle;\n",
       "    }\n",
       "\n",
       "    .dataframe tbody tr th {\n",
       "        vertical-align: top;\n",
       "    }\n",
       "\n",
       "    .dataframe thead th {\n",
       "        text-align: right;\n",
       "    }\n",
       "</style>\n",
       "<table border=\"1\" class=\"dataframe\">\n",
       "  <thead>\n",
       "    <tr style=\"text-align: right;\">\n",
       "      <th></th>\n",
       "      <th>House Number</th>\n",
       "      <th>Street</th>\n",
       "      <th>First Name</th>\n",
       "      <th>Surname</th>\n",
       "      <th>Age</th>\n",
       "      <th>Relationship to Head of House</th>\n",
       "      <th>Marital Status</th>\n",
       "      <th>Gender</th>\n",
       "      <th>Occupation</th>\n",
       "      <th>Infirmity</th>\n",
       "      <th>Religion</th>\n",
       "    </tr>\n",
       "  </thead>\n",
       "  <tbody>\n",
       "    <tr>\n",
       "      <th>7364</th>\n",
       "      <td>13</td>\n",
       "      <td>Chester Lane</td>\n",
       "      <td>Gregory</td>\n",
       "      <td>Murphy</td>\n",
       "      <td>43</td>\n",
       "      <td>Head</td>\n",
       "      <td>Married</td>\n",
       "      <td>Male</td>\n",
       "      <td>Secretary, company</td>\n",
       "      <td>None</td>\n",
       "      <td>None</td>\n",
       "    </tr>\n",
       "    <tr>\n",
       "      <th>7365</th>\n",
       "      <td>13</td>\n",
       "      <td>Chester Lane</td>\n",
       "      <td>Abbie</td>\n",
       "      <td>Murphy</td>\n",
       "      <td>39</td>\n",
       "      <td>Wife</td>\n",
       "      <td>Married</td>\n",
       "      <td>Female</td>\n",
       "      <td>Landscape architect</td>\n",
       "      <td>None</td>\n",
       "      <td>None</td>\n",
       "    </tr>\n",
       "    <tr>\n",
       "      <th>7366</th>\n",
       "      <td>NaN</td>\n",
       "      <td>Chester Lane</td>\n",
       "      <td>Dominic</td>\n",
       "      <td>Murphy</td>\n",
       "      <td>10</td>\n",
       "      <td>Son</td>\n",
       "      <td>NaN</td>\n",
       "      <td>Male</td>\n",
       "      <td>Student</td>\n",
       "      <td>None</td>\n",
       "      <td>NaN</td>\n",
       "    </tr>\n",
       "    <tr>\n",
       "      <th>7367</th>\n",
       "      <td>13</td>\n",
       "      <td>Chester Lane</td>\n",
       "      <td>Catherine</td>\n",
       "      <td>Murphy</td>\n",
       "      <td>8</td>\n",
       "      <td>Daughter</td>\n",
       "      <td>NaN</td>\n",
       "      <td>Female</td>\n",
       "      <td>Student</td>\n",
       "      <td>None</td>\n",
       "      <td>NaN</td>\n",
       "    </tr>\n",
       "    <tr>\n",
       "      <th>7444</th>\n",
       "      <td>35</td>\n",
       "      <td>Chester Lane</td>\n",
       "      <td>Francis</td>\n",
       "      <td>Murphy</td>\n",
       "      <td>56</td>\n",
       "      <td>Head</td>\n",
       "      <td>Single</td>\n",
       "      <td>Male</td>\n",
       "      <td>Journalist, newspaper</td>\n",
       "      <td>None</td>\n",
       "      <td>Methodist</td>\n",
       "    </tr>\n",
       "    <tr>\n",
       "      <th>7445</th>\n",
       "      <td>NaN</td>\n",
       "      <td>Chester Lane</td>\n",
       "      <td>Charlene</td>\n",
       "      <td>Bibi</td>\n",
       "      <td>61</td>\n",
       "      <td>Head</td>\n",
       "      <td>Married</td>\n",
       "      <td>Female</td>\n",
       "      <td>Planning and development surveyor</td>\n",
       "      <td>None</td>\n",
       "      <td>None</td>\n",
       "    </tr>\n",
       "    <tr>\n",
       "      <th>7446</th>\n",
       "      <td>36</td>\n",
       "      <td>Chester Lane</td>\n",
       "      <td>Abdul</td>\n",
       "      <td>Bibi</td>\n",
       "      <td>60</td>\n",
       "      <td>Husband</td>\n",
       "      <td>Married</td>\n",
       "      <td>Male</td>\n",
       "      <td>Engineering geologist</td>\n",
       "      <td>None</td>\n",
       "      <td>None</td>\n",
       "    </tr>\n",
       "    <tr>\n",
       "      <th>7447</th>\n",
       "      <td>36</td>\n",
       "      <td>Chester Lane</td>\n",
       "      <td>Andrew</td>\n",
       "      <td>Bibi</td>\n",
       "      <td>33</td>\n",
       "      <td>Son</td>\n",
       "      <td>Single</td>\n",
       "      <td>Male</td>\n",
       "      <td>Research officer, trade union</td>\n",
       "      <td>None</td>\n",
       "      <td>None</td>\n",
       "    </tr>\n",
       "    <tr>\n",
       "      <th>7448</th>\n",
       "      <td>36</td>\n",
       "      <td>Chester Lane</td>\n",
       "      <td>Kelly</td>\n",
       "      <td>Bibi</td>\n",
       "      <td>29</td>\n",
       "      <td>Daughter</td>\n",
       "      <td>Single</td>\n",
       "      <td>Female</td>\n",
       "      <td>Environmental health practitioner</td>\n",
       "      <td>None</td>\n",
       "      <td>None</td>\n",
       "    </tr>\n",
       "  </tbody>\n",
       "</table>\n",
       "</div>"
      ],
      "text/plain": [
       "     House Number        Street First Name Surname Age  \\\n",
       "7364           13  Chester Lane    Gregory  Murphy  43   \n",
       "7365           13  Chester Lane      Abbie  Murphy  39   \n",
       "7366          NaN  Chester Lane    Dominic  Murphy  10   \n",
       "7367           13  Chester Lane  Catherine  Murphy   8   \n",
       "7444           35  Chester Lane    Francis  Murphy  56   \n",
       "7445          NaN  Chester Lane   Charlene    Bibi  61   \n",
       "7446           36  Chester Lane      Abdul    Bibi  60   \n",
       "7447           36  Chester Lane     Andrew    Bibi  33   \n",
       "7448           36  Chester Lane      Kelly    Bibi  29   \n",
       "\n",
       "     Relationship to Head of House Marital Status  Gender  \\\n",
       "7364                          Head        Married    Male   \n",
       "7365                          Wife        Married  Female   \n",
       "7366                           Son            NaN    Male   \n",
       "7367                      Daughter            NaN  Female   \n",
       "7444                          Head         Single    Male   \n",
       "7445                          Head        Married  Female   \n",
       "7446                       Husband        Married    Male   \n",
       "7447                           Son         Single    Male   \n",
       "7448                      Daughter         Single  Female   \n",
       "\n",
       "                             Occupation Infirmity   Religion  \n",
       "7364                 Secretary, company      None       None  \n",
       "7365                Landscape architect      None       None  \n",
       "7366                            Student      None        NaN  \n",
       "7367                            Student      None        NaN  \n",
       "7444              Journalist, newspaper      None  Methodist  \n",
       "7445  Planning and development surveyor      None       None  \n",
       "7446              Engineering geologist      None       None  \n",
       "7447      Research officer, trade union      None       None  \n",
       "7448  Environmental health practitioner      None       None  "
      ]
     },
     "execution_count": 12,
     "metadata": {},
     "output_type": "execute_result"
    }
   ],
   "source": [
    "surnames = null_house_num['Surname'].values\n",
    "streets = null_house_num['Street'].values\n",
    "census_df.loc[(census_df['Surname'].isin(surnames)) & (census_df['Street'].isin(streets))]"
   ]
  },
  {
   "cell_type": "markdown",
   "id": "b16d0089",
   "metadata": {},
   "source": [
    "<br><br>We can see that the Murphys are a household of 4 occupants (at house number: 13): Husband/Father, Wife/Mother, Son and Daughter.<br>\n",
    "Albeit, there is a fifth person with surname Murphy, however, he has a different house number from the other Murphys and single.<br>Likewise for the Bibis, they are also a household of 4 occupants (at house number: 36): Head/Wife, Husband, Son and Daughter.<br>***Thus, a reasonable assumption is that Dominic Murphy's house number is 13. <br>And Charlene Bibi's house number is 36***"
   ]
  },
  {
   "cell_type": "code",
   "execution_count": 13,
   "id": "ced32a96",
   "metadata": {},
   "outputs": [],
   "source": [
    "# assign Dominic Murphy, a house number 13\n",
    "house_num.loc[null_house_num.loc[null_house_num['Surname'] == 'Murphy'].index] = str(13)"
   ]
  },
  {
   "cell_type": "code",
   "execution_count": 14,
   "id": "d67bc2f3",
   "metadata": {},
   "outputs": [],
   "source": [
    "# assign Charlene Bibi, a house number 36\n",
    "house_num.loc[null_house_num.loc[null_house_num['Surname'] == 'Bibi'].index] = str(36)"
   ]
  },
  {
   "cell_type": "code",
   "execution_count": 15,
   "id": "8ef0db9d",
   "metadata": {},
   "outputs": [
    {
     "data": {
      "text/plain": [
       "7366    13\n",
       "7445    36\n",
       "Name: House Number, dtype: object"
      ]
     },
     "execution_count": 15,
     "metadata": {},
     "output_type": "execute_result"
    }
   ],
   "source": [
    "# check for replacement\n",
    "house_num.loc[null_house_num.index]"
   ]
  },
  {
   "cell_type": "code",
   "execution_count": 16,
   "id": "e8c7b6e6",
   "metadata": {},
   "outputs": [
    {
     "name": "stdout",
     "output_type": "stream",
     "text": [
      "['1' '2' '3' '4' '5' '6' '7' '8' '9' '10' '11' '12' '13' '14' '15' '16'\n",
      " '17' '18' '19' '20' '21' '22' '23' '24' '25' '26' '27' '28' '29' '30'\n",
      " '31' '32' '33' '34' '35' '36' '37' '38' '39' '40' '41' '42' '43' '44'\n",
      " '45' '46' '47' '48' '49' '50' '51' '52' '53' '54' '55' '56' '57' '58'\n",
      " '59' '60' '61' '62' '63' '64' '65' '66' '67' '68' '69' '70' '71' '72'\n",
      " '73' '74' '75' '76' '77' '78' '79' '80' '81' '82' '83' '84' '85' '86'\n",
      " '87' '88' '89' '90' '91' '92' '93' '94' '95' '96' '97' '98' '99' '100'\n",
      " '101' '102' '103' '104' '105' '106' '107' '108' '109' '110' '111' '112'\n",
      " '113' '114' '115' '116' '117' '118' '119' '120' '121' '122' '123' '124'\n",
      " '125' '126' '127' '128' '129' '130' '131' '132' '133' '134' '135' '136'\n",
      " '137' '138' '139' '140' '141' '142' '143' '144' '145' '146' '147' '148'\n",
      " '149' '150']\n"
     ]
    }
   ],
   "source": [
    "# check for missing values\n",
    "print(house_num.unique())"
   ]
  },
  {
   "cell_type": "markdown",
   "id": "b7b86c0d",
   "metadata": {},
   "source": [
    "#### The House number series now looks ready to be casted to type int"
   ]
  },
  {
   "cell_type": "code",
   "execution_count": 17,
   "id": "15374aaa",
   "metadata": {},
   "outputs": [],
   "source": [
    "# cast house_num series to type int\n",
    "house_num = sns.categorical.pd.to_numeric(house_num)"
   ]
  },
  {
   "cell_type": "code",
   "execution_count": 18,
   "id": "380c9b76",
   "metadata": {},
   "outputs": [
    {
     "name": "stdout",
     "output_type": "stream",
     "text": [
      "[  1   2   3   4   5   6   7   8   9  10  11  12  13  14  15  16  17  18\n",
      "  19  20  21  22  23  24  25  26  27  28  29  30  31  32  33  34  35  36\n",
      "  37  38  39  40  41  42  43  44  45  46  47  48  49  50  51  52  53  54\n",
      "  55  56  57  58  59  60  61  62  63  64  65  66  67  68  69  70  71  72\n",
      "  73  74  75  76  77  78  79  80  81  82  83  84  85  86  87  88  89  90\n",
      "  91  92  93  94  95  96  97  98  99 100 101 102 103 104 105 106 107 108\n",
      " 109 110 111 112 113 114 115 116 117 118 119 120 121 122 123 124 125 126\n",
      " 127 128 129 130 131 132 133 134 135 136 137 138 139 140 141 142 143 144\n",
      " 145 146 147 148 149 150]\n"
     ]
    }
   ],
   "source": [
    "print(house_num.unique())"
   ]
  },
  {
   "cell_type": "markdown",
   "id": "107092ef",
   "metadata": {},
   "source": [
    "#### Replace the old \"House Number\" column in the original census_df dataframe with cleaned series, \"house_num\"."
   ]
  },
  {
   "cell_type": "code",
   "execution_count": 19,
   "id": "c6581f91",
   "metadata": {},
   "outputs": [],
   "source": [
    "census_df['House Number'] = house_num"
   ]
  },
  {
   "cell_type": "code",
   "execution_count": 20,
   "id": "9ea3bb2b",
   "metadata": {},
   "outputs": [
    {
     "data": {
      "text/plain": [
       "House Number                      int64\n",
       "Street                           object\n",
       "First Name                       object\n",
       "Surname                          object\n",
       "Age                              object\n",
       "Relationship to Head of House    object\n",
       "Marital Status                   object\n",
       "Gender                           object\n",
       "Occupation                       object\n",
       "Infirmity                        object\n",
       "Religion                         object\n",
       "dtype: object"
      ]
     },
     "execution_count": 20,
     "metadata": {},
     "output_type": "execute_result"
    }
   ],
   "source": [
    "census_df.dtypes"
   ]
  },
  {
   "cell_type": "markdown",
   "id": "1642d048",
   "metadata": {},
   "source": [
    "___"
   ]
  },
  {
   "cell_type": "markdown",
   "id": "5ce14c6c",
   "metadata": {},
   "source": [
    "### Street"
   ]
  },
  {
   "cell_type": "code",
   "execution_count": 21,
   "id": "c9b0f3f8",
   "metadata": {},
   "outputs": [
    {
     "data": {
      "text/plain": [
       "0"
      ]
     },
     "execution_count": 21,
     "metadata": {},
     "output_type": "execute_result"
    }
   ],
   "source": [
    "# check for nan values\n",
    "cd.null_checker(census_df['Street'])"
   ]
  },
  {
   "cell_type": "code",
   "execution_count": 22,
   "id": "f67c0b12",
   "metadata": {},
   "outputs": [
    {
     "data": {
      "text/plain": [
       "False"
      ]
     },
     "execution_count": 22,
     "metadata": {},
     "output_type": "execute_result"
    }
   ],
   "source": [
    "# check for empty string\n",
    "cd.check_for_empty_str(census_df)['Street']"
   ]
  },
  {
   "cell_type": "code",
   "execution_count": 23,
   "id": "1ae32c69",
   "metadata": {},
   "outputs": [
    {
     "name": "stdout",
     "output_type": "stream",
     "text": [
      "['Simmons Meadow', 'Morgan Avenue', 'Pillar Road', 'Wharf Place', 'Blue Spring', 'Stirling View', 'Smith Street', 'Griffiths Inlet', 'Shrine Harbor', 'Rees Locks', 'Dixon Drive', 'Howell Drive', 'Wharf Wells', 'Queen Avenue', 'Tegid Street', 'Chandler Drive', 'Adams Ways', 'Guardian Road', 'Runnymede Harbors', 'Coconutbelt Lane', 'North Road', 'Hall Lane', 'George Pass', 'Elizabeth Lane', 'Belle Center', 'Bell Orchard', 'Brooks Road', 'Windsor Avenue', 'Paladin Summit', 'Wright Brook', 'Green Wall', 'Doherty Extensions', 'Shillingcut Lane', 'February Street', 'Regent Lane', 'Mason Prairie', 'Scotland Avenue', 'Butterfly Avenue', 'Mary Drive', 'Mercia Underpass', 'Halfcrown Terrace', 'Oyster Road', 'Campbell Station', 'Parry Manor', 'Price Lane', 'Taylor Gateway', 'Brightwater Drive', 'Peacock Neck', 'Clayton Brooks', 'Portsmouth Park', 'Smith Manors', 'Spencer Avenue', 'Clementine Points', 'Guild Lane', 'Cancerpath Drive', 'Albion Springs', 'Duchess Street', 'Dockers Fords', 'Edwards Flat', 'Institution Harbors', 'Goodwin Fords', 'Shrine Drive', 'Friaryrow Street', 'Conifer Squares', 'Newcastle Road', 'Parkes Gardens', 'Leeds Avenue', 'James Views', 'Leisure Squares', 'Minster Drive', 'Butterfly Fork', 'Hull Drives', 'Bishop Avenue', 'Rogers Extensions', 'Jordan Wall', 'Thomas Drive', 'Calendar Ranch', 'Eagleweave Street', 'Watson Throughway', 'Morgan Stream', 'Parry Mill', 'St.Matthew Avenue', 'Albert Lane', 'Worcester Street', 'Leonard Mews', 'Woodward Junction', 'Quayside Garden', 'Crown Stravenue', 'Aethelstan Prairie', 'Chester Lane', 'Ellis Farmhouse', 'Cannon Ranch', 'Atholl Institute', 'Lightning Windmill', 'July Factory', 'Pillar Stables', 'Nash Inn', 'Vulture Mansion', 'Roberts Mansion', 'White Fort', 'Grant Commune', 'Adams Ranch', 'Love Fortress', 'Memorial Farmhouse', 'Newry Spire']\n"
     ]
    }
   ],
   "source": [
    "# check out the unique values\n",
    "print(cd.unique_categs(census_df)['Street'])"
   ]
  },
  {
   "cell_type": "markdown",
   "id": "b261cffb",
   "metadata": {},
   "source": [
    "**NOTE:**<br>\n",
    "Street column does not require any cleaning, as there isn't any empty string, nan, nor inconsistent values in the column."
   ]
  },
  {
   "cell_type": "markdown",
   "id": "139994f9",
   "metadata": {},
   "source": [
    "___"
   ]
  },
  {
   "cell_type": "markdown",
   "id": "b309baa1",
   "metadata": {},
   "source": [
    "### Address"
   ]
  },
  {
   "cell_type": "markdown",
   "id": "8be68332",
   "metadata": {},
   "source": [
    "Create new \"Address\" feature by combining \"House Number\" and \"Street\" of each occupant<br>\n",
    "**NOTE:** An \"Address\" feature would facilitate easier and faster access to unique households"
   ]
  },
  {
   "cell_type": "code",
   "execution_count": 24,
   "id": "45536e77",
   "metadata": {},
   "outputs": [
    {
     "data": {
      "text/plain": [
       "0       1, Simmons Meadow\n",
       "1       1, Simmons Meadow\n",
       "2       1, Simmons Meadow\n",
       "3       1, Simmons Meadow\n",
       "4       1, Simmons Meadow\n",
       "              ...        \n",
       "7576       1, Newry Spire\n",
       "7577       1, Newry Spire\n",
       "7578       1, Newry Spire\n",
       "7579       1, Newry Spire\n",
       "7580       1, Newry Spire\n",
       "Length: 7581, dtype: object"
      ]
     },
     "execution_count": 24,
     "metadata": {},
     "output_type": "execute_result"
    }
   ],
   "source": [
    "address = census_df.apply(lambda df: f\"{df['House Number']}, {df['Street']}\", axis=1)\n",
    "address"
   ]
  },
  {
   "cell_type": "markdown",
   "id": "deea323f",
   "metadata": {},
   "source": [
    "#### Make address series a new column in the census_df"
   ]
  },
  {
   "cell_type": "code",
   "execution_count": 25,
   "id": "21c6a65a",
   "metadata": {},
   "outputs": [],
   "source": [
    "census_df['Address'] = address"
   ]
  },
  {
   "cell_type": "markdown",
   "id": "78c126ad",
   "metadata": {},
   "source": [
    "___"
   ]
  },
  {
   "cell_type": "markdown",
   "id": "1f1fde5a",
   "metadata": {},
   "source": [
    "#### checking the new structure of census_df"
   ]
  },
  {
   "cell_type": "code",
   "execution_count": 26,
   "id": "81434b6f",
   "metadata": {},
   "outputs": [
    {
     "name": "stdout",
     "output_type": "stream",
     "text": [
      "<class 'pandas.core.frame.DataFrame'>\n",
      "RangeIndex: 7581 entries, 0 to 7580\n",
      "Data columns (total 12 columns):\n",
      " #   Column                         Non-Null Count  Dtype \n",
      "---  ------                         --------------  ----- \n",
      " 0   House Number                   7581 non-null   int64 \n",
      " 1   Street                         7581 non-null   object\n",
      " 2   First Name                     7579 non-null   object\n",
      " 3   Surname                        7581 non-null   object\n",
      " 4   Age                            7581 non-null   object\n",
      " 5   Relationship to Head of House  7581 non-null   object\n",
      " 6   Marital Status                 5904 non-null   object\n",
      " 7   Gender                         7581 non-null   object\n",
      " 8   Occupation                     7581 non-null   object\n",
      " 9   Infirmity                      7581 non-null   object\n",
      " 10  Religion                       5864 non-null   object\n",
      " 11  Address                        7581 non-null   object\n",
      "dtypes: int64(1), object(11)\n",
      "memory usage: 710.8+ KB\n"
     ]
    }
   ],
   "source": [
    "census_df.info()"
   ]
  },
  {
   "cell_type": "code",
   "execution_count": 27,
   "id": "c252c0b9",
   "metadata": {},
   "outputs": [
    {
     "data": {
      "text/html": [
       "<div>\n",
       "<style scoped>\n",
       "    .dataframe tbody tr th:only-of-type {\n",
       "        vertical-align: middle;\n",
       "    }\n",
       "\n",
       "    .dataframe tbody tr th {\n",
       "        vertical-align: top;\n",
       "    }\n",
       "\n",
       "    .dataframe thead th {\n",
       "        text-align: right;\n",
       "    }\n",
       "</style>\n",
       "<table border=\"1\" class=\"dataframe\">\n",
       "  <thead>\n",
       "    <tr style=\"text-align: right;\">\n",
       "      <th></th>\n",
       "      <th>House Number</th>\n",
       "      <th>Street</th>\n",
       "      <th>First Name</th>\n",
       "      <th>Surname</th>\n",
       "      <th>Age</th>\n",
       "      <th>Relationship to Head of House</th>\n",
       "      <th>Marital Status</th>\n",
       "      <th>Gender</th>\n",
       "      <th>Occupation</th>\n",
       "      <th>Infirmity</th>\n",
       "      <th>Religion</th>\n",
       "      <th>Address</th>\n",
       "    </tr>\n",
       "  </thead>\n",
       "  <tbody>\n",
       "    <tr>\n",
       "      <th>0</th>\n",
       "      <td>1</td>\n",
       "      <td>Simmons Meadow</td>\n",
       "      <td>Andrea</td>\n",
       "      <td>Bradley</td>\n",
       "      <td>43</td>\n",
       "      <td>Head</td>\n",
       "      <td>Married</td>\n",
       "      <td>Female</td>\n",
       "      <td>Prison officer</td>\n",
       "      <td>None</td>\n",
       "      <td>None</td>\n",
       "      <td>1, Simmons Meadow</td>\n",
       "    </tr>\n",
       "    <tr>\n",
       "      <th>1</th>\n",
       "      <td>1</td>\n",
       "      <td>Simmons Meadow</td>\n",
       "      <td>Peter</td>\n",
       "      <td>Bradley</td>\n",
       "      <td>44</td>\n",
       "      <td>Husband</td>\n",
       "      <td>Married</td>\n",
       "      <td>Male</td>\n",
       "      <td>Futures trader</td>\n",
       "      <td>None</td>\n",
       "      <td>None</td>\n",
       "      <td>1, Simmons Meadow</td>\n",
       "    </tr>\n",
       "    <tr>\n",
       "      <th>2</th>\n",
       "      <td>1</td>\n",
       "      <td>Simmons Meadow</td>\n",
       "      <td>Lauren</td>\n",
       "      <td>Bradley</td>\n",
       "      <td>5</td>\n",
       "      <td>Daughter</td>\n",
       "      <td>NaN</td>\n",
       "      <td>F</td>\n",
       "      <td>Student</td>\n",
       "      <td>None</td>\n",
       "      <td>NaN</td>\n",
       "      <td>1, Simmons Meadow</td>\n",
       "    </tr>\n",
       "    <tr>\n",
       "      <th>3</th>\n",
       "      <td>1</td>\n",
       "      <td>Simmons Meadow</td>\n",
       "      <td>Henry</td>\n",
       "      <td>Bradley</td>\n",
       "      <td>5</td>\n",
       "      <td>Son</td>\n",
       "      <td>NaN</td>\n",
       "      <td>Male</td>\n",
       "      <td>Student</td>\n",
       "      <td>None</td>\n",
       "      <td>NaN</td>\n",
       "      <td>1, Simmons Meadow</td>\n",
       "    </tr>\n",
       "    <tr>\n",
       "      <th>4</th>\n",
       "      <td>1</td>\n",
       "      <td>Simmons Meadow</td>\n",
       "      <td>Edward</td>\n",
       "      <td>Slater</td>\n",
       "      <td>25</td>\n",
       "      <td>Lodger</td>\n",
       "      <td>Divorced</td>\n",
       "      <td>Male</td>\n",
       "      <td>Further education lecturer</td>\n",
       "      <td>None</td>\n",
       "      <td>None</td>\n",
       "      <td>1, Simmons Meadow</td>\n",
       "    </tr>\n",
       "  </tbody>\n",
       "</table>\n",
       "</div>"
      ],
      "text/plain": [
       "   House Number          Street First Name  Surname Age  \\\n",
       "0             1  Simmons Meadow     Andrea  Bradley  43   \n",
       "1             1  Simmons Meadow      Peter  Bradley  44   \n",
       "2             1  Simmons Meadow     Lauren  Bradley   5   \n",
       "3             1  Simmons Meadow      Henry  Bradley   5   \n",
       "4             1  Simmons Meadow     Edward   Slater  25   \n",
       "\n",
       "  Relationship to Head of House Marital Status  Gender  \\\n",
       "0                          Head        Married  Female   \n",
       "1                       Husband        Married    Male   \n",
       "2                      Daughter            NaN       F   \n",
       "3                           Son            NaN    Male   \n",
       "4                        Lodger       Divorced    Male   \n",
       "\n",
       "                   Occupation Infirmity Religion            Address  \n",
       "0              Prison officer      None     None  1, Simmons Meadow  \n",
       "1              Futures trader      None     None  1, Simmons Meadow  \n",
       "2                     Student      None      NaN  1, Simmons Meadow  \n",
       "3                     Student      None      NaN  1, Simmons Meadow  \n",
       "4  Further education lecturer      None     None  1, Simmons Meadow  "
      ]
     },
     "execution_count": 27,
     "metadata": {},
     "output_type": "execute_result"
    }
   ],
   "source": [
    "census_df.head()"
   ]
  },
  {
   "cell_type": "markdown",
   "id": "ae5b8ba3",
   "metadata": {},
   "source": [
    "___"
   ]
  },
  {
   "cell_type": "markdown",
   "id": "82e10ff1",
   "metadata": {},
   "source": [
    "#### Save dataframe changes to filesystem as csv file"
   ]
  },
  {
   "cell_type": "code",
   "execution_count": 28,
   "id": "7bdfecdf",
   "metadata": {},
   "outputs": [],
   "source": [
    "fname = 'house_num_and_street_cleaned.csv'\n",
    "census_df.to_csv(fname, index=False)"
   ]
  },
  {
   "cell_type": "markdown",
   "id": "e297b3e5",
   "metadata": {},
   "source": [
    "___"
   ]
  },
  {
   "cell_type": "markdown",
   "id": "545910f0",
   "metadata": {},
   "source": [
    "**<center> THE END</center>**"
   ]
  },
  {
   "cell_type": "markdown",
   "id": "3a48749c",
   "metadata": {},
   "source": [
    "___"
   ]
  }
 ],
 "metadata": {
  "kernelspec": {
   "display_name": "Python 3 (ipykernel)",
   "language": "python",
   "name": "python3"
  },
  "language_info": {
   "codemirror_mode": {
    "name": "ipython",
    "version": 3
   },
   "file_extension": ".py",
   "mimetype": "text/x-python",
   "name": "python",
   "nbconvert_exporter": "python",
   "pygments_lexer": "ipython3",
   "version": "3.9.7"
  }
 },
 "nbformat": 4,
 "nbformat_minor": 5
}
